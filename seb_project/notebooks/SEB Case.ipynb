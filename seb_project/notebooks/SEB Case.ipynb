{
 "cells": [
  {
   "cell_type": "markdown",
   "metadata": {},
   "source": [
    "In this notebook I have used Python to explore the data and gain a better understanding about the features and target variable."
   ]
  },
  {
   "cell_type": "code",
   "execution_count": 1,
   "metadata": {},
   "outputs": [],
   "source": [
    "# Import Libraries\n",
    "import numpy as np\n",
    "import pandas as pd\n",
    "import matplotlib.pyplot as plt\n",
    "from matplotlib.pylab import rcParams\n",
    "rcParams['figure.figsize'] = 12, 4\n",
    "\n",
    "#import time, datetime\n",
    "from datetime import datetime, date\n",
    "import seaborn as sns\n",
    "\n",
    "#from scipy.stats import poisson, chi2_contingency\n",
    "#from tqdm.notebook import tqdm\n",
    "#from patsy import dmatrices\n",
    "\n",
    "#import statsmodels.api as sm\n",
    "\n",
    "\n",
    "\n",
    "import warnings\n",
    "warnings.filterwarnings('ignore')\n",
    "\n",
    "%matplotlib inline"
   ]
  },
  {
   "cell_type": "code",
   "execution_count": 63,
   "metadata": {},
   "outputs": [],
   "source": [
    "PATH= \"C:\\\\Users\\\\masud.pervez\\\\Documents\\\\SEB_project\\\\seb_project/\""
   ]
  },
  {
   "cell_type": "code",
   "execution_count": 40,
   "metadata": {},
   "outputs": [
    {
     "data": {
      "text/html": [
       "<div>\n",
       "<style scoped>\n",
       "    .dataframe tbody tr th:only-of-type {\n",
       "        vertical-align: middle;\n",
       "    }\n",
       "\n",
       "    .dataframe tbody tr th {\n",
       "        vertical-align: top;\n",
       "    }\n",
       "\n",
       "    .dataframe thead th {\n",
       "        text-align: right;\n",
       "    }\n",
       "</style>\n",
       "<table border=\"1\" class=\"dataframe\">\n",
       "  <thead>\n",
       "    <tr style=\"text-align: right;\">\n",
       "      <th></th>\n",
       "      <th>CLIENT_ID</th>\n",
       "      <th>ACCOUNT_ID</th>\n",
       "      <th>GENDER</th>\n",
       "      <th>BIRTH_DT</th>\n",
       "      <th>ACTIVE</th>\n",
       "      <th>LOAN</th>\n",
       "      <th>DISTRICT_ID</th>\n",
       "      <th>SET_SPLIT</th>\n",
       "    </tr>\n",
       "  </thead>\n",
       "  <tbody>\n",
       "    <tr>\n",
       "      <th>0</th>\n",
       "      <td>1</td>\n",
       "      <td>1</td>\n",
       "      <td>F</td>\n",
       "      <td>19701213</td>\n",
       "      <td>1</td>\n",
       "      <td>0</td>\n",
       "      <td>18</td>\n",
       "      <td>TRAIN</td>\n",
       "    </tr>\n",
       "    <tr>\n",
       "      <th>1</th>\n",
       "      <td>2</td>\n",
       "      <td>2</td>\n",
       "      <td>M</td>\n",
       "      <td>19450204</td>\n",
       "      <td>1</td>\n",
       "      <td>1</td>\n",
       "      <td>1</td>\n",
       "      <td>TRAIN</td>\n",
       "    </tr>\n",
       "    <tr>\n",
       "      <th>2</th>\n",
       "      <td>4</td>\n",
       "      <td>3</td>\n",
       "      <td>M</td>\n",
       "      <td>19561201</td>\n",
       "      <td>1</td>\n",
       "      <td>0</td>\n",
       "      <td>5</td>\n",
       "      <td>TEST</td>\n",
       "    </tr>\n",
       "    <tr>\n",
       "      <th>3</th>\n",
       "      <td>6</td>\n",
       "      <td>4</td>\n",
       "      <td>M</td>\n",
       "      <td>19190922</td>\n",
       "      <td>1</td>\n",
       "      <td>0</td>\n",
       "      <td>12</td>\n",
       "      <td>TRAIN</td>\n",
       "    </tr>\n",
       "    <tr>\n",
       "      <th>4</th>\n",
       "      <td>7</td>\n",
       "      <td>5</td>\n",
       "      <td>M</td>\n",
       "      <td>19290125</td>\n",
       "      <td>1</td>\n",
       "      <td>0</td>\n",
       "      <td>15</td>\n",
       "      <td>TRAIN</td>\n",
       "    </tr>\n",
       "  </tbody>\n",
       "</table>\n",
       "</div>"
      ],
      "text/plain": [
       "   CLIENT_ID  ACCOUNT_ID GENDER  BIRTH_DT  ACTIVE  LOAN  DISTRICT_ID SET_SPLIT\n",
       "0          1           1      F  19701213       1     0           18     TRAIN\n",
       "1          2           2      M  19450204       1     1            1     TRAIN\n",
       "2          4           3      M  19561201       1     0            5      TEST\n",
       "3          6           4      M  19190922       1     0           12     TRAIN\n",
       "4          7           5      M  19290125       1     0           15     TRAIN"
      ]
     },
     "execution_count": 40,
     "metadata": {},
     "output_type": "execute_result"
    }
   ],
   "source": [
    "# Load data\n",
    "customer_df = pd.read_csv(f'{PATH}data//Customer.csv', sep=',')\n",
    "district_df = pd.read_csv(f'{PATH}data//District.csv', sep=',')\n",
    "transaction_df = pd.read_csv(f'{PATH}data//Transaction.csv', sep=',')\n",
    "customer_df.head()"
   ]
  },
  {
   "cell_type": "code",
   "execution_count": 4,
   "metadata": {},
   "outputs": [
    {
     "data": {
      "text/html": [
       "<div>\n",
       "<style scoped>\n",
       "    .dataframe tbody tr th:only-of-type {\n",
       "        vertical-align: middle;\n",
       "    }\n",
       "\n",
       "    .dataframe tbody tr th {\n",
       "        vertical-align: top;\n",
       "    }\n",
       "\n",
       "    .dataframe thead th {\n",
       "        text-align: right;\n",
       "    }\n",
       "</style>\n",
       "<table border=\"1\" class=\"dataframe\">\n",
       "  <thead>\n",
       "    <tr style=\"text-align: right;\">\n",
       "      <th></th>\n",
       "      <th>TRANS_ID</th>\n",
       "      <th>ACCOUNT_ID</th>\n",
       "      <th>DATE</th>\n",
       "      <th>AMOUNT</th>\n",
       "      <th>BALANCE</th>\n",
       "      <th>TYPE</th>\n",
       "      <th>OPERATION</th>\n",
       "    </tr>\n",
       "  </thead>\n",
       "  <tbody>\n",
       "    <tr>\n",
       "      <th>938782</th>\n",
       "      <td>330069</td>\n",
       "      <td>1125</td>\n",
       "      <td>19980811</td>\n",
       "      <td>6800.0</td>\n",
       "      <td>63358.3</td>\n",
       "      <td>WITHDRAWAL</td>\n",
       "      <td>WITHDRAWAL_IN_CASH</td>\n",
       "    </tr>\n",
       "    <tr>\n",
       "      <th>661744</th>\n",
       "      <td>24476</td>\n",
       "      <td>81</td>\n",
       "      <td>19971008</td>\n",
       "      <td>229.0</td>\n",
       "      <td>19938.4</td>\n",
       "      <td>WITHDRAWAL</td>\n",
       "      <td>REMITTANCE_TO_OTHER_BANK</td>\n",
       "    </tr>\n",
       "    <tr>\n",
       "      <th>453836</th>\n",
       "      <td>649345</td>\n",
       "      <td>2219</td>\n",
       "      <td>19970106</td>\n",
       "      <td>10500.0</td>\n",
       "      <td>83106.6</td>\n",
       "      <td>WITHDRAWAL</td>\n",
       "      <td>WITHDRAWAL_IN_CASH</td>\n",
       "    </tr>\n",
       "    <tr>\n",
       "      <th>542229</th>\n",
       "      <td>3571878</td>\n",
       "      <td>1258</td>\n",
       "      <td>19970430</td>\n",
       "      <td>62.3</td>\n",
       "      <td>15474.5</td>\n",
       "      <td>CREDIT</td>\n",
       "      <td>NaN</td>\n",
       "    </tr>\n",
       "    <tr>\n",
       "      <th>392736</th>\n",
       "      <td>1225344</td>\n",
       "      <td>4195</td>\n",
       "      <td>19961001</td>\n",
       "      <td>11582.0</td>\n",
       "      <td>91938.3</td>\n",
       "      <td>WITHDRAWAL</td>\n",
       "      <td>WITHDRAWAL_IN_CASH</td>\n",
       "    </tr>\n",
       "  </tbody>\n",
       "</table>\n",
       "</div>"
      ],
      "text/plain": [
       "        TRANS_ID  ACCOUNT_ID      DATE   AMOUNT  BALANCE        TYPE  \\\n",
       "938782    330069        1125  19980811   6800.0  63358.3  WITHDRAWAL   \n",
       "661744     24476          81  19971008    229.0  19938.4  WITHDRAWAL   \n",
       "453836    649345        2219  19970106  10500.0  83106.6  WITHDRAWAL   \n",
       "542229   3571878        1258  19970430     62.3  15474.5      CREDIT   \n",
       "392736   1225344        4195  19961001  11582.0  91938.3  WITHDRAWAL   \n",
       "\n",
       "                       OPERATION  \n",
       "938782        WITHDRAWAL_IN_CASH  \n",
       "661744  REMITTANCE_TO_OTHER_BANK  \n",
       "453836        WITHDRAWAL_IN_CASH  \n",
       "542229                       NaN  \n",
       "392736        WITHDRAWAL_IN_CASH  "
      ]
     },
     "execution_count": 4,
     "metadata": {},
     "output_type": "execute_result"
    }
   ],
   "source": [
    "transaction_df.sample(5)"
   ]
  },
  {
   "cell_type": "code",
   "execution_count": 5,
   "metadata": {},
   "outputs": [
    {
     "data": {
      "text/html": [
       "<div>\n",
       "<style scoped>\n",
       "    .dataframe tbody tr th:only-of-type {\n",
       "        vertical-align: middle;\n",
       "    }\n",
       "\n",
       "    .dataframe tbody tr th {\n",
       "        vertical-align: top;\n",
       "    }\n",
       "\n",
       "    .dataframe thead th {\n",
       "        text-align: right;\n",
       "    }\n",
       "</style>\n",
       "<table border=\"1\" class=\"dataframe\">\n",
       "  <thead>\n",
       "    <tr style=\"text-align: right;\">\n",
       "      <th></th>\n",
       "      <th>DISTRICT_ID</th>\n",
       "      <th>N_INHAB</th>\n",
       "      <th>N_CITIES</th>\n",
       "      <th>URBAN_RATIO</th>\n",
       "      <th>AVG_SALARY</th>\n",
       "      <th>UNEMP_95</th>\n",
       "      <th>UNEMP_96</th>\n",
       "      <th>N_ENTR</th>\n",
       "      <th>CRIME_95</th>\n",
       "      <th>CRIME_96</th>\n",
       "    </tr>\n",
       "  </thead>\n",
       "  <tbody>\n",
       "    <tr>\n",
       "      <th>45</th>\n",
       "      <td>46</td>\n",
       "      <td>112709</td>\n",
       "      <td>10</td>\n",
       "      <td>73.5</td>\n",
       "      <td>8369</td>\n",
       "      <td>1.79</td>\n",
       "      <td>2.31</td>\n",
       "      <td>117</td>\n",
       "      <td>2854</td>\n",
       "      <td>2618</td>\n",
       "    </tr>\n",
       "    <tr>\n",
       "      <th>70</th>\n",
       "      <td>71</td>\n",
       "      <td>161227</td>\n",
       "      <td>10</td>\n",
       "      <td>69.7</td>\n",
       "      <td>8678</td>\n",
       "      <td>5.93</td>\n",
       "      <td>5.57</td>\n",
       "      <td>102</td>\n",
       "      <td>4980</td>\n",
       "      <td>4595</td>\n",
       "    </tr>\n",
       "    <tr>\n",
       "      <th>50</th>\n",
       "      <td>51</td>\n",
       "      <td>121947</td>\n",
       "      <td>11</td>\n",
       "      <td>70.5</td>\n",
       "      <td>8541</td>\n",
       "      <td>2.51</td>\n",
       "      <td>2.97</td>\n",
       "      <td>131</td>\n",
       "      <td>3496</td>\n",
       "      <td>3839</td>\n",
       "    </tr>\n",
       "    <tr>\n",
       "      <th>44</th>\n",
       "      <td>45</td>\n",
       "      <td>77917</td>\n",
       "      <td>5</td>\n",
       "      <td>53.5</td>\n",
       "      <td>8390</td>\n",
       "      <td>2.28</td>\n",
       "      <td>2.89</td>\n",
       "      <td>132</td>\n",
       "      <td>2080</td>\n",
       "      <td>2122</td>\n",
       "    </tr>\n",
       "    <tr>\n",
       "      <th>7</th>\n",
       "      <td>8</td>\n",
       "      <td>112065</td>\n",
       "      <td>8</td>\n",
       "      <td>69.4</td>\n",
       "      <td>11277</td>\n",
       "      <td>1.25</td>\n",
       "      <td>1.44</td>\n",
       "      <td>127</td>\n",
       "      <td>5179</td>\n",
       "      <td>4987</td>\n",
       "    </tr>\n",
       "  </tbody>\n",
       "</table>\n",
       "</div>"
      ],
      "text/plain": [
       "    DISTRICT_ID  N_INHAB  N_CITIES  URBAN_RATIO  AVG_SALARY UNEMP_95  \\\n",
       "45           46   112709        10         73.5        8369     1.79   \n",
       "70           71   161227        10         69.7        8678     5.93   \n",
       "50           51   121947        11         70.5        8541     2.51   \n",
       "44           45    77917         5         53.5        8390     2.28   \n",
       "7             8   112065         8         69.4       11277     1.25   \n",
       "\n",
       "    UNEMP_96  N_ENTR CRIME_95  CRIME_96  \n",
       "45      2.31     117     2854      2618  \n",
       "70      5.57     102     4980      4595  \n",
       "50      2.97     131     3496      3839  \n",
       "44      2.89     132     2080      2122  \n",
       "7       1.44     127     5179      4987  "
      ]
     },
     "execution_count": 5,
     "metadata": {},
     "output_type": "execute_result"
    }
   ],
   "source": [
    "district_df.sample(5)"
   ]
  },
  {
   "cell_type": "code",
   "execution_count": 12,
   "metadata": {},
   "outputs": [],
   "source": [
    "# Change date type from int to datetime\n",
    "# # Create Timestamp object\n",
    "customer_df['BIRTH_DT'] = pd.to_datetime(customer_df.BIRTH_DT, format= \"%Y%m%d\")\n"
   ]
  },
  {
   "cell_type": "code",
   "execution_count": 13,
   "metadata": {},
   "outputs": [],
   "source": [
    "def calculateAge(dob):\n",
    "    '''This function will calculae age given a string/int dob.'''\n",
    "    today= date.today() \n",
    "    dob= pd.to_datetime(dob, format= \"%Y%m%d\").date()\n",
    "    #dob = datetime.strptime(str(dob), \"%Y%m%d\").date() # convert int to str first\n",
    "    return today.year - dob.year - ((today.month, today.day) < (dob.month, dob.day))"
   ]
  },
  {
   "cell_type": "code",
   "execution_count": 14,
   "metadata": {},
   "outputs": [
    {
     "data": {
      "text/html": [
       "<div>\n",
       "<style scoped>\n",
       "    .dataframe tbody tr th:only-of-type {\n",
       "        vertical-align: middle;\n",
       "    }\n",
       "\n",
       "    .dataframe tbody tr th {\n",
       "        vertical-align: top;\n",
       "    }\n",
       "\n",
       "    .dataframe thead th {\n",
       "        text-align: right;\n",
       "    }\n",
       "</style>\n",
       "<table border=\"1\" class=\"dataframe\">\n",
       "  <thead>\n",
       "    <tr style=\"text-align: right;\">\n",
       "      <th></th>\n",
       "      <th>CLIENT_ID</th>\n",
       "      <th>ACCOUNT_ID</th>\n",
       "      <th>GENDER</th>\n",
       "      <th>BIRTH_DT</th>\n",
       "      <th>Age</th>\n",
       "      <th>ACTIVE</th>\n",
       "      <th>LOAN</th>\n",
       "      <th>DISTRICT_ID</th>\n",
       "      <th>SET_SPLIT</th>\n",
       "    </tr>\n",
       "  </thead>\n",
       "  <tbody>\n",
       "    <tr>\n",
       "      <th>0</th>\n",
       "      <td>1</td>\n",
       "      <td>1</td>\n",
       "      <td>F</td>\n",
       "      <td>1970-12-13</td>\n",
       "      <td>50</td>\n",
       "      <td>1</td>\n",
       "      <td>0</td>\n",
       "      <td>18</td>\n",
       "      <td>TRAIN</td>\n",
       "    </tr>\n",
       "    <tr>\n",
       "      <th>1</th>\n",
       "      <td>2</td>\n",
       "      <td>2</td>\n",
       "      <td>M</td>\n",
       "      <td>1945-02-04</td>\n",
       "      <td>76</td>\n",
       "      <td>1</td>\n",
       "      <td>1</td>\n",
       "      <td>1</td>\n",
       "      <td>TRAIN</td>\n",
       "    </tr>\n",
       "    <tr>\n",
       "      <th>2</th>\n",
       "      <td>4</td>\n",
       "      <td>3</td>\n",
       "      <td>M</td>\n",
       "      <td>1956-12-01</td>\n",
       "      <td>64</td>\n",
       "      <td>1</td>\n",
       "      <td>0</td>\n",
       "      <td>5</td>\n",
       "      <td>TEST</td>\n",
       "    </tr>\n",
       "    <tr>\n",
       "      <th>3</th>\n",
       "      <td>6</td>\n",
       "      <td>4</td>\n",
       "      <td>M</td>\n",
       "      <td>1919-09-22</td>\n",
       "      <td>101</td>\n",
       "      <td>1</td>\n",
       "      <td>0</td>\n",
       "      <td>12</td>\n",
       "      <td>TRAIN</td>\n",
       "    </tr>\n",
       "    <tr>\n",
       "      <th>4</th>\n",
       "      <td>7</td>\n",
       "      <td>5</td>\n",
       "      <td>M</td>\n",
       "      <td>1929-01-25</td>\n",
       "      <td>92</td>\n",
       "      <td>1</td>\n",
       "      <td>0</td>\n",
       "      <td>15</td>\n",
       "      <td>TRAIN</td>\n",
       "    </tr>\n",
       "  </tbody>\n",
       "</table>\n",
       "</div>"
      ],
      "text/plain": [
       "   CLIENT_ID  ACCOUNT_ID GENDER   BIRTH_DT  Age  ACTIVE  LOAN  DISTRICT_ID  \\\n",
       "0          1           1      F 1970-12-13   50       1     0           18   \n",
       "1          2           2      M 1945-02-04   76       1     1            1   \n",
       "2          4           3      M 1956-12-01   64       1     0            5   \n",
       "3          6           4      M 1919-09-22  101       1     0           12   \n",
       "4          7           5      M 1929-01-25   92       1     0           15   \n",
       "\n",
       "  SET_SPLIT  \n",
       "0     TRAIN  \n",
       "1     TRAIN  \n",
       "2      TEST  \n",
       "3     TRAIN  \n",
       "4     TRAIN  "
      ]
     },
     "execution_count": 14,
     "metadata": {},
     "output_type": "execute_result"
    }
   ],
   "source": [
    "age= customer_df['BIRTH_DT'].apply(calculateAge)\n",
    "customer_df.insert(4, 'Age', age, True)\n",
    "customer_df.head()"
   ]
  },
  {
   "cell_type": "markdown",
   "metadata": {},
   "source": [
    "# Exploratory Data Analysis (EDA)"
   ]
  },
  {
   "cell_type": "code",
   "execution_count": 128,
   "metadata": {},
   "outputs": [
    {
     "name": "stdout",
     "output_type": "stream",
     "text": [
      "Total no of customers: 4500\n",
      "Total no of Transactions: 1056320\n",
      "Duration of Transactions: 1993-01-01 to 1998-12-31\n",
      "Total no of Districts: 77\n"
     ]
    }
   ],
   "source": [
    "# Total no of customers\n",
    "\n",
    "print('Total no of customers: {}'.format(customer_df['CLIENT_ID'].nunique()))\n",
    "print('Total no of Transactions: {}'.format(transaction_df['TRANS_ID'].nunique()))\n",
    "print('Duration of Transactions: {} to {}'.format(min(transaction_df['DATE']).date(), max(transaction_df['DATE']).date()))\n",
    "print('Total no of Districts: {}'.format(district_df.shape[0]))"
   ]
  },
  {
   "cell_type": "markdown",
   "metadata": {},
   "source": [
    "### Question: How many transactions did an average customer complete in the period? How much did they spend? Does it change over time?"
   ]
  },
  {
   "cell_type": "code",
   "execution_count": 97,
   "metadata": {},
   "outputs": [
    {
     "name": "stdout",
     "output_type": "stream",
     "text": [
      "No of transactions: 235\n",
      "Average amount paid: 5924.15\n"
     ]
    }
   ],
   "source": [
    "print(\"No of transactions: {:.0f}\" .format(transaction_df.shape[0]/transaction_df.ACCOUNT_ID.nunique()))\n",
    "print(\"Average amount paid: {:.2f}\".format(transaction_df.AMOUNT.mean()))"
   ]
  },
  {
   "cell_type": "code",
   "execution_count": 99,
   "metadata": {},
   "outputs": [],
   "source": [
    "transaction_df['DATE'] = pd.to_datetime(transaction_df.DATE, format= \"%Y%m%d\")"
   ]
  },
  {
   "cell_type": "code",
   "execution_count": 185,
   "metadata": {},
   "outputs": [
    {
     "data": {
      "image/png": "[encoded data removed]",
      "text/plain": [
       "<Figure size 1152x360 with 2 Axes>"
      ]
     },
     "metadata": {},
     "output_type": "display_data"
    }
   ],
   "source": [
    "sns.set(style=\"darkgrid\")\n",
    "fig, ((ax1, ax2)) = plt.subplots(nrows = 1, ncols = 2,figsize=(16,5))\n",
    "\n",
    "# 1st plot\n",
    "trans_year= transaction_df.groupby(transaction_df['DATE'].dt.year).apply(lambda x: x['TRANS_ID'].count()/x['ACCOUNT_ID'].nunique())\n",
    "#trans_year.plot(kind='bar', ax= ax1)\n",
    "sns.barplot(y=trans_year, x=trans_year.index, ax= ax1)\n",
    "ax1.tick_params(axis='x', rotation=30)\n",
    "ax1.set_xlabel(\"year\")\n",
    "ax1.set_ylabel(\"average count\")\n",
    "ax1.set_title(\"Average transactions over years\", fontsize=12)\n",
    "for p in ax1.patches:\n",
    "        ax1.annotate('{:.0f}'.format(p.get_height()), (p.get_x()+0.1, p.get_height()+1))\n",
    "\n",
    "\n",
    "# 2nd plot\n",
    "\n",
    "trans_yearMonth= transaction_df.groupby([transaction_df['DATE'].dt.month, transaction_df['DATE'].dt.year]).apply(lambda x: x['TRANS_ID'].count()/x['ACCOUNT_ID'].nunique())\n",
    "trans_yearMonth.unstack().plot(kind='line', ax= ax2)\n",
    "plt.xticks(rotation=30, horizontalalignment=\"center\")\n",
    "ax2.set_title(\"Average transactions over months and years\")\n",
    "ax2.set_xlabel(\"year\")\n",
    "ax2.set_ylabel(\"average count\")\n",
    "ax2.legend(loc= 'best')\n",
    "plt.savefig(f'{PATH}/results/plots/avg_transaction.png')\n",
    "plt.show()\n",
    "\n"
   ]
  },
  {
   "cell_type": "code",
   "execution_count": 186,
   "metadata": {},
   "outputs": [
    {
     "data": {
      "image/png": "[encoded data removed]",
      "text/plain": [
       "<Figure size 1152x360 with 2 Axes>"
      ]
     },
     "metadata": {},
     "output_type": "display_data"
    }
   ],
   "source": [
    "sns.set(style=\"darkgrid\")\n",
    "fig, ((ax1, ax2)) = plt.subplots(nrows = 1, ncols = 2,figsize=(16,5))\n",
    "\n",
    "# 1st plot\n",
    "trans_year= transaction_df.groupby(transaction_df['DATE'].dt.year).apply(lambda x: x['AMOUNT'].mean())\n",
    "#trans_year.plot(kind='bar', ax= ax1)\n",
    "sns.barplot(y=trans_year, x=trans_year.index, ax= ax1)\n",
    "ax1.tick_params(axis='x', rotation=30)\n",
    "ax1.set_xlabel(\"year\")\n",
    "ax1.set_ylabel(\"average amount\")\n",
    "ax1.set_title(\"Average amount/transaction over years\", fontsize=12)\n",
    "for p in ax1.patches:\n",
    "        ax1.annotate('{:.1f}'.format(p.get_height()), (p.get_x()+0.1, p.get_height()+1))\n",
    "\n",
    "\n",
    "# 2nd plot\n",
    "\n",
    "trans_yearMonth= transaction_df.groupby([transaction_df['DATE'].dt.month, transaction_df['DATE'].dt.year]).apply(lambda x: x['AMOUNT'].mean())\n",
    "trans_yearMonth.unstack().plot(kind='line', ax= ax2)\n",
    "plt.xticks(rotation=30, horizontalalignment=\"center\")\n",
    "ax2.set_title(\"Average amount/transaction over months and years\")\n",
    "ax2.set_xlabel(\"year\")\n",
    "ax2.set_ylabel(\"average amount\")\n",
    "ax2.legend(loc= 'best')\n",
    "plt.savefig(f'{PATH}/results/plots/avg_transaction_year.png')\n",
    "plt.show()\n"
   ]
  },
  {
   "cell_type": "code",
   "execution_count": 174,
   "metadata": {},
   "outputs": [
    {
     "name": "stdout",
     "output_type": "stream",
     "text": [
      "(1056320, 15)\n"
     ]
    }
   ],
   "source": [
    "customer_transaction_df= pd.merge(customer_df, transaction_df, how= 'inner', on= 'ACCOUNT_ID')\n",
    "customer_transaction_df.sample(5)\n",
    "print(customer_transaction_df.shape)"
   ]
  },
  {
   "cell_type": "code",
   "execution_count": 178,
   "metadata": {},
   "outputs": [],
   "source": [
    "total_transactionByCustomer= customer_transaction_df.groupby('CLIENT_ID').agg({\n",
    "    'TRANS_ID': 'count',\n",
    "    'AMOUNT': sum\n",
    "}).reset_index()\n"
   ]
  },
  {
   "cell_type": "code",
   "execution_count": 179,
   "metadata": {},
   "outputs": [
    {
     "data": {
      "text/html": [
       "<div>\n",
       "<style scoped>\n",
       "    .dataframe tbody tr th:only-of-type {\n",
       "        vertical-align: middle;\n",
       "    }\n",
       "\n",
       "    .dataframe tbody tr th {\n",
       "        vertical-align: top;\n",
       "    }\n",
       "\n",
       "    .dataframe thead th {\n",
       "        text-align: right;\n",
       "    }\n",
       "</style>\n",
       "<table border=\"1\" class=\"dataframe\">\n",
       "  <thead>\n",
       "    <tr style=\"text-align: right;\">\n",
       "      <th></th>\n",
       "      <th>CLIENT_ID</th>\n",
       "      <th>TRANS_ID</th>\n",
       "      <th>AMOUNT</th>\n",
       "    </tr>\n",
       "  </thead>\n",
       "  <tbody>\n",
       "    <tr>\n",
       "      <th>0</th>\n",
       "      <td>1</td>\n",
       "      <td>239</td>\n",
       "      <td>375174.5</td>\n",
       "    </tr>\n",
       "    <tr>\n",
       "      <th>1</th>\n",
       "      <td>2</td>\n",
       "      <td>478</td>\n",
       "      <td>3151479.3</td>\n",
       "    </tr>\n",
       "    <tr>\n",
       "      <th>2</th>\n",
       "      <td>4</td>\n",
       "      <td>117</td>\n",
       "      <td>295021.8</td>\n",
       "    </tr>\n",
       "    <tr>\n",
       "      <th>3</th>\n",
       "      <td>6</td>\n",
       "      <td>186</td>\n",
       "      <td>350971.4</td>\n",
       "    </tr>\n",
       "    <tr>\n",
       "      <th>4</th>\n",
       "      <td>7</td>\n",
       "      <td>84</td>\n",
       "      <td>166881.4</td>\n",
       "    </tr>\n",
       "    <tr>\n",
       "      <th>...</th>\n",
       "      <td>...</td>\n",
       "      <td>...</td>\n",
       "      <td>...</td>\n",
       "    </tr>\n",
       "    <tr>\n",
       "      <th>4495</th>\n",
       "      <td>13931</td>\n",
       "      <td>368</td>\n",
       "      <td>3295795.5</td>\n",
       "    </tr>\n",
       "    <tr>\n",
       "      <th>4496</th>\n",
       "      <td>13955</td>\n",
       "      <td>304</td>\n",
       "      <td>3957372.2</td>\n",
       "    </tr>\n",
       "    <tr>\n",
       "      <th>4497</th>\n",
       "      <td>13968</td>\n",
       "      <td>378</td>\n",
       "      <td>2948081.4</td>\n",
       "    </tr>\n",
       "    <tr>\n",
       "      <th>4498</th>\n",
       "      <td>13971</td>\n",
       "      <td>344</td>\n",
       "      <td>1330010.5</td>\n",
       "    </tr>\n",
       "    <tr>\n",
       "      <th>4499</th>\n",
       "      <td>13998</td>\n",
       "      <td>253</td>\n",
       "      <td>2623161.9</td>\n",
       "    </tr>\n",
       "  </tbody>\n",
       "</table>\n",
       "<p>4500 rows × 3 columns</p>\n",
       "</div>"
      ],
      "text/plain": [
       "      CLIENT_ID  TRANS_ID     AMOUNT\n",
       "0             1       239   375174.5\n",
       "1             2       478  3151479.3\n",
       "2             4       117   295021.8\n",
       "3             6       186   350971.4\n",
       "4             7        84   166881.4\n",
       "...         ...       ...        ...\n",
       "4495      13931       368  3295795.5\n",
       "4496      13955       304  3957372.2\n",
       "4497      13968       378  2948081.4\n",
       "4498      13971       344  1330010.5\n",
       "4499      13998       253  2623161.9\n",
       "\n",
       "[4500 rows x 3 columns]"
      ]
     },
     "execution_count": 179,
     "metadata": {},
     "output_type": "execute_result"
    }
   ],
   "source": [
    "total_transactionByCustomer"
   ]
  },
  {
   "cell_type": "code",
   "execution_count": 187,
   "metadata": {},
   "outputs": [
    {
     "ename": "NameError",
     "evalue": "name 'total_transactionByCustomer' is not defined",
     "output_type": "error",
     "traceback": [
      "\u001b[1;31m---------------------------------------------------------------------------\u001b[0m",
      "\u001b[1;31mNameError\u001b[0m                                 Traceback (most recent call last)",
      "\u001b[1;32m<ipython-input-187-4b7ccc6f4e83>\u001b[0m in \u001b[0;36m<module>\u001b[1;34m\u001b[0m\n\u001b[0;32m      1\u001b[0m \u001b[0mfig\u001b[0m\u001b[1;33m,\u001b[0m \u001b[1;33m(\u001b[0m\u001b[1;33m(\u001b[0m\u001b[0max1\u001b[0m\u001b[1;33m,\u001b[0m \u001b[0max2\u001b[0m\u001b[1;33m)\u001b[0m\u001b[1;33m)\u001b[0m \u001b[1;33m=\u001b[0m \u001b[0mplt\u001b[0m\u001b[1;33m.\u001b[0m\u001b[0msubplots\u001b[0m\u001b[1;33m(\u001b[0m\u001b[0mnrows\u001b[0m \u001b[1;33m=\u001b[0m \u001b[1;36m1\u001b[0m\u001b[1;33m,\u001b[0m \u001b[0mncols\u001b[0m \u001b[1;33m=\u001b[0m \u001b[1;36m2\u001b[0m\u001b[1;33m,\u001b[0m\u001b[0mfigsize\u001b[0m\u001b[1;33m=\u001b[0m\u001b[1;33m(\u001b[0m\u001b[1;36m16\u001b[0m\u001b[1;33m,\u001b[0m\u001b[1;36m5\u001b[0m\u001b[1;33m)\u001b[0m\u001b[1;33m)\u001b[0m\u001b[1;33m\u001b[0m\u001b[1;33m\u001b[0m\u001b[0m\n\u001b[0;32m      2\u001b[0m \u001b[1;31m#x='Sålt', kind=\"kde\", hue= 'group\u001b[0m\u001b[1;33m\u001b[0m\u001b[1;33m\u001b[0m\u001b[1;33m\u001b[0m\u001b[0m\n\u001b[1;32m----> 3\u001b[1;33m \u001b[0msns\u001b[0m\u001b[1;33m.\u001b[0m\u001b[0mdistplot\u001b[0m\u001b[1;33m(\u001b[0m\u001b[0mtotal_transactionByCustomer\u001b[0m\u001b[1;33m[\u001b[0m\u001b[1;34m\"TRANS_ID\"\u001b[0m\u001b[1;33m]\u001b[0m\u001b[1;33m,\u001b[0m\u001b[0max\u001b[0m\u001b[1;33m=\u001b[0m \u001b[0max1\u001b[0m\u001b[1;33m)\u001b[0m\u001b[1;33m\u001b[0m\u001b[1;33m\u001b[0m\u001b[0m\n\u001b[0m\u001b[0;32m      4\u001b[0m \u001b[1;33m\u001b[0m\u001b[0m\n\u001b[0;32m      5\u001b[0m \u001b[0msns\u001b[0m\u001b[1;33m.\u001b[0m\u001b[0mboxplot\u001b[0m\u001b[1;33m(\u001b[0m\u001b[1;34m\"TRANS_ID\"\u001b[0m\u001b[1;33m,\u001b[0m \u001b[0mdata\u001b[0m\u001b[1;33m=\u001b[0m\u001b[0mtotal_transactionByCustomer\u001b[0m\u001b[1;33m,\u001b[0m \u001b[0max\u001b[0m\u001b[1;33m=\u001b[0m \u001b[0max2\u001b[0m\u001b[1;33m,\u001b[0m \u001b[0mpalette\u001b[0m\u001b[1;33m=\u001b[0m\u001b[1;34m\"Set3\"\u001b[0m\u001b[1;33m)\u001b[0m\u001b[1;33m\u001b[0m\u001b[1;33m\u001b[0m\u001b[0m\n",
      "\u001b[1;31mNameError\u001b[0m: name 'total_transactionByCustomer' is not defined"
     ]
    },
    {
     "data": {
      "image/png": "[encoded data removed]",
      "text/plain": [
       "<Figure size 1152x360 with 2 Axes>"
      ]
     },
     "metadata": {},
     "output_type": "display_data"
    }
   ],
   "source": [
    "fig, ((ax1, ax2)) = plt.subplots(nrows = 1, ncols = 2,figsize=(16,5))\n",
    "#x='Sålt', kind=\"kde\", hue= 'group\n",
    "sns.distplot(total_transactionByCustomer[\"TRANS_ID\"],ax= ax1)\n",
    "\n",
    "sns.boxplot(\"TRANS_ID\", data=total_transactionByCustomer, ax= ax2, palette=\"Set3\")\n",
    "plt.savefig(f'{PATH}/results/plots/transaction_dist.png')\n",
    "plt.show()"
   ]
  },
  {
   "cell_type": "code",
   "execution_count": null,
   "metadata": {},
   "outputs": [],
   "source": [
    "df['year-month'] = df['date'].apply(lambda x: str(x.year) + ' ' + str(x.month))\n",
    "grouped = df.groupby('year-month')"
   ]
  },
  {
   "cell_type": "code",
   "execution_count": null,
   "metadata": {},
   "outputs": [],
   "source": [
    "total_transactionByCustomer= customer_transaction_df.groupby(['DATE','CLIENT_ID']).agg({\n",
    "    'TRANS_ID': 'count',\n",
    "    'AMOUNT': sum\n",
    "}).reset_index()"
   ]
  },
  {
   "cell_type": "code",
   "execution_count": null,
   "metadata": {},
   "outputs": [],
   "source": []
  },
  {
   "cell_type": "code",
   "execution_count": 188,
   "metadata": {},
   "outputs": [
    {
     "ename": "NameError",
     "evalue": "name 'customer_transaction_df' is not defined",
     "output_type": "error",
     "traceback": [
      "\u001b[1;31m---------------------------------------------------------------------------\u001b[0m",
      "\u001b[1;31mNameError\u001b[0m                                 Traceback (most recent call last)",
      "\u001b[1;32m<ipython-input-188-29f4b343ea4c>\u001b[0m in \u001b[0;36m<module>\u001b[1;34m\u001b[0m\n\u001b[0;32m      9\u001b[0m \u001b[1;33m\u001b[0m\u001b[0m\n\u001b[0;32m     10\u001b[0m sns.barplot(x='DATE', y= 'CLIENT_ID', \n\u001b[1;32m---> 11\u001b[1;33m               \u001b[0mdata\u001b[0m\u001b[1;33m=\u001b[0m \u001b[0mcustomer_transaction_df\u001b[0m\u001b[1;33m.\u001b[0m\u001b[0mgroupby\u001b[0m\u001b[1;33m(\u001b[0m\u001b[0mcustomer_transaction_df\u001b[0m\u001b[1;33m.\u001b[0m\u001b[0mDATE\u001b[0m\u001b[1;33m.\u001b[0m\u001b[0mdt\u001b[0m\u001b[1;33m.\u001b[0m\u001b[0myear\u001b[0m\u001b[1;33m)\u001b[0m\u001b[1;33m.\u001b[0m\u001b[0magg\u001b[0m\u001b[1;33m(\u001b[0m\u001b[1;33m{\u001b[0m\u001b[1;34m'CLIENT_ID'\u001b[0m\u001b[1;33m:\u001b[0m\u001b[1;34m'nunique'\u001b[0m\u001b[1;33m}\u001b[0m\u001b[1;33m)\u001b[0m\u001b[1;33m.\u001b[0m\u001b[0mreset_index\u001b[0m\u001b[1;33m(\u001b[0m\u001b[1;33m)\u001b[0m\u001b[1;33m,\u001b[0m\u001b[1;33m\u001b[0m\u001b[1;33m\u001b[0m\u001b[0m\n\u001b[0m\u001b[0;32m     12\u001b[0m               ax= ax1)\n\u001b[0;32m     13\u001b[0m \u001b[1;33m\u001b[0m\u001b[0m\n",
      "\u001b[1;31mNameError\u001b[0m: name 'customer_transaction_df' is not defined"
     ]
    },
    {
     "data": {
      "image/png": "[encoded data removed]",
      "text/plain": [
       "<Figure size 1152x360 with 2 Axes>"
      ]
     },
     "metadata": {},
     "output_type": "display_data"
    }
   ],
   "source": [
    "transaction_by_year= transaction_df.groupby(transaction_df['DATE'].dt.year).apply(lambda x: x['TRANS_ID'].count()/x['ACCOUNT_ID'].nunique())\\\n",
    "                        .reset_index() \\\n",
    "                        .rename(columns= {0: 'average_transactions'})\n",
    "\n",
    "transaction_by_year\n",
    "\n",
    "sns.set(style=\"darkgrid\")\n",
    "fig, ((ax1, ax2)) = plt.subplots(nrows = 1, ncols = 2,figsize=(16,5))\n",
    "\n",
    "sns.barplot(x='DATE', y= 'CLIENT_ID', \n",
    "              data= customer_transaction_df.groupby(customer_transaction_df.DATE.dt.year).agg({'CLIENT_ID':'nunique'}).reset_index(), \n",
    "              ax= ax1)\n",
    "\n",
    "#transaction_by_year.plot('DATE', 0,kind='line')\n",
    "sns.lineplot(x= 'DATE', y= 'average_transactions', data= transaction_by_year, ax= ax2)\n",
    "\n",
    "\n",
    "\n",
    "# 1st plot\n",
    "# sns.barplot(data= test_data.groupby(['dayOfWeek', 'group']).agg({'FSST_nr': lambda x: int(x.count()/2)}).reset_index(), \n",
    "#               x= \"dayOfWeek\",y= \"FSST_nr\", hue='group',\n",
    "#               order=['Må', 'Ti','On',  'To', 'Fr',  'Lö', 'Sö'], ax= ax1)\n",
    "# ax1.legend(loc= \"lower left\")\n",
    "# ax1.set_xlabel(\"Veckodag\")\n",
    "# ax1.set_ylabel(\"Antal butiker\")\n",
    "# ax1.set_title(\"Antalet butiker per grupp\", fontsize=12)\n",
    "# for p in ax1.patches:\n",
    "#         ax1.annotate('{:.0f}'.format(p.get_height()), (p.get_x()+0.1, p.get_height()+50))\n",
    "\n",
    "\n",
    "# # 2nd plot\n",
    "# sns.barplot(x=\"dayOfWeek\", y=\"Sold_Out\", hue='group', data=test_data, \n",
    "#             order=['Må', 'Ti','On',  'To', 'Fr',  'Lö', 'Sö'], ax= ax2, ci= None)\n",
    "# ax2.set_xlabel(\"Veckodag\")\n",
    "# ax2.set_ylabel(\"Sold out\")\n",
    "# ax2.set_title(\"Fördelning av 'sold out' i veckodag per grupp\")\n",
    "# ax2.legend()\n",
    "plt.savefig(f'{PATH}/results/plots/avg_transaction_period.png')\n",
    "plt.show()"
   ]
  },
  {
   "cell_type": "markdown",
   "metadata": {},
   "source": [
    "### Question: Do different customer profiles show different behavior? Is the transaction pattern homogeneous across geographic regions?\n",
    "\n",
    "- Visualize one of your findings"
   ]
  },
  {
   "cell_type": "code",
   "execution_count": 181,
   "metadata": {},
   "outputs": [],
   "source": [
    "merge_df= customer_transaction_df.merge(district_df, how = 'inner', on=\"DISTRICT_ID\")"
   ]
  },
  {
   "cell_type": "code",
   "execution_count": 189,
   "metadata": {},
   "outputs": [
    {
     "ename": "NameError",
     "evalue": "name 'merge_df' is not defined",
     "output_type": "error",
     "traceback": [
      "\u001b[1;31m---------------------------------------------------------------------------\u001b[0m",
      "\u001b[1;31mNameError\u001b[0m                                 Traceback (most recent call last)",
      "\u001b[1;32m<ipython-input-189-8df5670194dd>\u001b[0m in \u001b[0;36m<module>\u001b[1;34m\u001b[0m\n\u001b[0;32m      3\u001b[0m \u001b[1;33m\u001b[0m\u001b[0m\n\u001b[0;32m      4\u001b[0m \u001b[1;31m# 1st plot\u001b[0m\u001b[1;33m\u001b[0m\u001b[1;33m\u001b[0m\u001b[1;33m\u001b[0m\u001b[0m\n\u001b[1;32m----> 5\u001b[1;33m \u001b[0mtrans_gender\u001b[0m\u001b[1;33m=\u001b[0m \u001b[0mmerge_df\u001b[0m\u001b[1;33m.\u001b[0m\u001b[0mgroupby\u001b[0m\u001b[1;33m(\u001b[0m\u001b[0mmerge_df\u001b[0m\u001b[1;33m[\u001b[0m\u001b[1;34m'GENDER'\u001b[0m\u001b[1;33m]\u001b[0m\u001b[1;33m)\u001b[0m\u001b[1;33m.\u001b[0m\u001b[0mapply\u001b[0m\u001b[1;33m(\u001b[0m\u001b[1;32mlambda\u001b[0m \u001b[0mx\u001b[0m\u001b[1;33m:\u001b[0m \u001b[0mx\u001b[0m\u001b[1;33m[\u001b[0m\u001b[1;34m'TRANS_ID'\u001b[0m\u001b[1;33m]\u001b[0m\u001b[1;33m.\u001b[0m\u001b[0mcount\u001b[0m\u001b[1;33m(\u001b[0m\u001b[1;33m)\u001b[0m\u001b[1;33m/\u001b[0m\u001b[0mx\u001b[0m\u001b[1;33m[\u001b[0m\u001b[1;34m'ACCOUNT_ID'\u001b[0m\u001b[1;33m]\u001b[0m\u001b[1;33m.\u001b[0m\u001b[0mnunique\u001b[0m\u001b[1;33m(\u001b[0m\u001b[1;33m)\u001b[0m\u001b[1;33m)\u001b[0m\u001b[1;33m\u001b[0m\u001b[1;33m\u001b[0m\u001b[0m\n\u001b[0m\u001b[0;32m      6\u001b[0m \u001b[1;31m#trans_year.plot(kind='bar', ax= ax1)\u001b[0m\u001b[1;33m\u001b[0m\u001b[1;33m\u001b[0m\u001b[1;33m\u001b[0m\u001b[0m\n\u001b[0;32m      7\u001b[0m \u001b[0msns\u001b[0m\u001b[1;33m.\u001b[0m\u001b[0mbarplot\u001b[0m\u001b[1;33m(\u001b[0m\u001b[0my\u001b[0m\u001b[1;33m=\u001b[0m\u001b[0mtrans_gender\u001b[0m\u001b[1;33m,\u001b[0m \u001b[0mx\u001b[0m\u001b[1;33m=\u001b[0m\u001b[0mtrans_gender\u001b[0m\u001b[1;33m.\u001b[0m\u001b[0mindex\u001b[0m\u001b[1;33m,\u001b[0m \u001b[0max\u001b[0m\u001b[1;33m=\u001b[0m \u001b[0max1\u001b[0m\u001b[1;33m)\u001b[0m\u001b[1;33m\u001b[0m\u001b[1;33m\u001b[0m\u001b[0m\n",
      "\u001b[1;31mNameError\u001b[0m: name 'merge_df' is not defined"
     ]
    },
    {
     "data": {
      "image/png": "[encoded data removed]",
      "text/plain": [
       "<Figure size 1152x360 with 2 Axes>"
      ]
     },
     "metadata": {},
     "output_type": "display_data"
    }
   ],
   "source": [
    "sns.set(style=\"darkgrid\")\n",
    "fig, ((ax1, ax2)) = plt.subplots(nrows = 1, ncols = 2,figsize=(16,5))\n",
    "\n",
    "# 1st plot\n",
    "trans_gender= merge_df.groupby(merge_df['GENDER']).apply(lambda x: x['TRANS_ID'].count()/x['ACCOUNT_ID'].nunique())\n",
    "#trans_year.plot(kind='bar', ax= ax1)\n",
    "sns.barplot(y=trans_gender, x=trans_gender.index, ax= ax1)\n",
    "ax1.tick_params(axis='x', rotation=30)\n",
    "ax1.set_xlabel(\"Gender\")\n",
    "ax1.set_ylabel(\"Count\")\n",
    "ax1.set_title(\"Average transactions per account/customer in Gender\", fontsize=12)\n",
    "for p in ax1.patches:\n",
    "        ax1.annotate('{:.0f}'.format(p.get_height()), (p.get_x()+0.1, p.get_height()+1))\n",
    "\n",
    "\n",
    "# 2nd plot\n",
    "\n",
    "amount_gender= merge_df.groupby(merge_df['GENDER']).apply(lambda x: x['AMOUNT'].mean())\n",
    "#amount_gender.plot(kind='barh', ax= ax2)\n",
    "sns.barplot(y= amount_gender, x= amount_gender.index, ax=ax2)\n",
    "plt.xticks(rotation=30, horizontalalignment=\"center\")\n",
    "ax2.set_title(\"Average amount spend per transactions in Gender\" , fontsize=12)\n",
    "ax2.set_xlabel(\"Gender\")\n",
    "ax2.set_ylabel(\"Amount\")\n",
    "for p in ax2.patches:\n",
    "        ax2.annotate('{:.2f}'.format(p.get_height()), (p.get_x()+0.1, p.get_height()+1))\n",
    "\n",
    "plt.savefig(f'{PATH}/results/plots/transaction_gender.png')\n",
    "plt.show()\n"
   ]
  },
  {
   "cell_type": "code",
   "execution_count": 270,
   "metadata": {},
   "outputs": [
    {
     "data": {
      "image/png": "[encoded data removed]",
      "text/plain": [
       "<Figure size 432x288 with 1 Axes>"
      ]
     },
     "metadata": {},
     "output_type": "display_data"
    }
   ],
   "source": [
    "sns.barplot(x= 'Trans_Year', y= 'AMOUNT', hue= 'GENDER', data= merge_df) # Seaborn barplot shows the average for each group\n",
    "\n",
    "plt.show()"
   ]
  },
  {
   "cell_type": "markdown",
   "metadata": {},
   "source": [
    "Customer profile shows almost 50-50 split on total transaction in their Gender category.\n",
    "It also shows that on average male customer do a transaction in 6000 and female with 5847. So customer profile interms of gender doesn't show any different behaviour over the period."
   ]
  },
  {
   "cell_type": "code",
   "execution_count": 195,
   "metadata": {},
   "outputs": [
    {
     "data": {
      "text/plain": [
       "Index(['CLIENT_ID', 'ACCOUNT_ID', 'GENDER', 'BIRTH_DT', 'Age', 'ACTIVE',\n",
       "       'LOAN', 'DISTRICT_ID', 'SET_SPLIT', 'TRANS_ID', 'DATE', 'AMOUNT',\n",
       "       'BALANCE', 'TYPE', 'OPERATION', 'N_INHAB', 'N_CITIES', 'URBAN_RATIO',\n",
       "       'AVG_SALARY', 'UNEMP_95', 'UNEMP_96', 'N_ENTR', 'CRIME_95', 'CRIME_96'],\n",
       "      dtype='object')"
      ]
     },
     "execution_count": 195,
     "metadata": {},
     "output_type": "execute_result"
    }
   ],
   "source": [
    "merge_df.columns"
   ]
  },
  {
   "cell_type": "code",
   "execution_count": 218,
   "metadata": {},
   "outputs": [
    {
     "data": {
      "image/png": "[encoded data removed]",
      "text/plain": [
       "<Figure size 1152x576 with 2 Axes>"
      ]
     },
     "metadata": {},
     "output_type": "display_data"
    }
   ],
   "source": [
    "sns.set(style=\"darkgrid\")\n",
    "fig, ((ax1, ax2)) = plt.subplots(nrows = 2, ncols = 1,figsize=(16,8))\n",
    "\n",
    "# 1st plot\n",
    "trans_district= merge_df.groupby(merge_df['DISTRICT_ID']).apply(lambda x: x['TRANS_ID'].count()/x['ACCOUNT_ID'].nunique())\n",
    "#trans_year.plot(kind='bar', ax= ax1)\n",
    "sns.barplot(y=trans_district, x=trans_district.index, ax= ax1)\n",
    "ax1.tick_params(axis='x', rotation=90)\n",
    "ax1.set_ylabel(\"Count\")\n",
    "ax1.set_title(\"Average transactions per account/customer in Districts\", fontsize=12)\n",
    "for p in ax1.patches:\n",
    "        ax1.annotate('{:.0f}'.format(p.get_height()), (p.get_x()+0.1, p.get_height()+1))\n",
    "\n",
    "\n",
    "# 2nd plot\n",
    "\n",
    "amount_district= merge_df.groupby(merge_df['DISTRICT_ID']).apply(lambda x: x['AMOUNT'].mean())\n",
    "#amount_gender.plot(kind='barh', ax= ax2)\n",
    "sns.barplot(y= amount_district, x= amount_district.index, ax=ax2)\n",
    "ax2.tick_params(axis='x', rotation=90)\n",
    "ax2.set_title(\"Average amount spend per transactions in Districts\" , fontsize=12)\n",
    "ax2.set_xlabel(\"District\")\n",
    "ax2.set_ylabel(\"Amount\")\n",
    "\n",
    "plt.show()\n"
   ]
  },
  {
   "cell_type": "code",
   "execution_count": 216,
   "metadata": {},
   "outputs": [
    {
     "data": {
      "image/png": "[encoded data removed]",
      "text/plain": [
       "<Figure size 1152x360 with 2 Axes>"
      ]
     },
     "metadata": {},
     "output_type": "display_data"
    }
   ],
   "source": [
    "fig, ((ax1, ax2)) = plt.subplots(nrows = 1, ncols = 2,figsize=(16,5))\n",
    "#x='Sålt', kind=\"kde\", hue= 'group\n",
    "sns.distplot(trans_district,ax= ax1, kde=True)\n",
    "ax1.vlines(trans_district.mean(), ymin= 0, ymax= 0.030, color= 'r', linestyles= 'dashed')\n",
    "\n",
    "sns.boxplot(amount_district, ax= ax2, palette=\"Set3\")\n",
    "plt.show()"
   ]
  },
  {
   "cell_type": "code",
   "execution_count": 204,
   "metadata": {},
   "outputs": [
    {
     "data": {
      "text/plain": [
       "count     77.000000\n",
       "mean     234.214801\n",
       "std       17.545687\n",
       "min      194.548387\n",
       "25%      224.819549\n",
       "50%      233.595890\n",
       "75%      246.371429\n",
       "max      267.465116\n",
       "dtype: float64"
      ]
     },
     "execution_count": 204,
     "metadata": {},
     "output_type": "execute_result"
    }
   ],
   "source": [
    "trans_district.describe()"
   ]
  },
  {
   "cell_type": "code",
   "execution_count": 262,
   "metadata": {},
   "outputs": [
    {
     "data": {
      "text/plain": [
       "<seaborn.axisgrid.FacetGrid at 0x1d7214d2a48>"
      ]
     },
     "execution_count": 262,
     "metadata": {},
     "output_type": "execute_result"
    },
    {
     "data": {
      "text/plain": [
       "<Figure size 1152x576 with 0 Axes>"
      ]
     },
     "metadata": {},
     "output_type": "display_data"
    },
    {
     "data": {
      "image/png": "[encoded data removed]",
      "text/plain": [
       "<Figure size 1260x1512 with 6 Axes>"
      ]
     },
     "metadata": {},
     "output_type": "display_data"
    }
   ],
   "source": [
    "plt.figure(figsize=(16,8))\n",
    "merge_df['Trans_Year']= merge_df.DATE.dt.year\n",
    "g = sns.FacetGrid(merge_df,  row='Trans_Year', height=3.5, aspect=5) # aspect * height gives the width of each facet in inches\n",
    "plt.xticks(rotation= 45)\n",
    "g.map(sns.countplot, \"DISTRICT_ID\")\n",
    "plt.show()"
   ]
  },
  {
   "cell_type": "code",
   "execution_count": 243,
   "metadata": {},
   "outputs": [
    {
     "data": {
      "text/html": [
       "<div>\n",
       "<style scoped>\n",
       "    .dataframe tbody tr th:only-of-type {\n",
       "        vertical-align: middle;\n",
       "    }\n",
       "\n",
       "    .dataframe tbody tr th {\n",
       "        vertical-align: top;\n",
       "    }\n",
       "\n",
       "    .dataframe thead th {\n",
       "        text-align: right;\n",
       "    }\n",
       "</style>\n",
       "<table border=\"1\" class=\"dataframe\">\n",
       "  <thead>\n",
       "    <tr style=\"text-align: right;\">\n",
       "      <th>N_CITIES</th>\n",
       "      <th>DISTRICT_ID</th>\n",
       "      <th>1</th>\n",
       "      <th>2</th>\n",
       "      <th>3</th>\n",
       "      <th>4</th>\n",
       "      <th>5</th>\n",
       "      <th>6</th>\n",
       "      <th>7</th>\n",
       "      <th>8</th>\n",
       "      <th>9</th>\n",
       "      <th>10</th>\n",
       "      <th>11</th>\n",
       "    </tr>\n",
       "  </thead>\n",
       "  <tbody>\n",
       "    <tr>\n",
       "      <th>0</th>\n",
       "      <td>1</td>\n",
       "      <td>129346.0</td>\n",
       "      <td>NaN</td>\n",
       "      <td>NaN</td>\n",
       "      <td>NaN</td>\n",
       "      <td>NaN</td>\n",
       "      <td>NaN</td>\n",
       "      <td>NaN</td>\n",
       "      <td>NaN</td>\n",
       "      <td>NaN</td>\n",
       "      <td>NaN</td>\n",
       "      <td>NaN</td>\n",
       "    </tr>\n",
       "    <tr>\n",
       "      <th>1</th>\n",
       "      <td>2</td>\n",
       "      <td>NaN</td>\n",
       "      <td>NaN</td>\n",
       "      <td>NaN</td>\n",
       "      <td>NaN</td>\n",
       "      <td>10825.0</td>\n",
       "      <td>NaN</td>\n",
       "      <td>NaN</td>\n",
       "      <td>NaN</td>\n",
       "      <td>NaN</td>\n",
       "      <td>NaN</td>\n",
       "      <td>NaN</td>\n",
       "    </tr>\n",
       "    <tr>\n",
       "      <th>2</th>\n",
       "      <td>3</td>\n",
       "      <td>NaN</td>\n",
       "      <td>NaN</td>\n",
       "      <td>NaN</td>\n",
       "      <td>NaN</td>\n",
       "      <td>12137.0</td>\n",
       "      <td>NaN</td>\n",
       "      <td>NaN</td>\n",
       "      <td>NaN</td>\n",
       "      <td>NaN</td>\n",
       "      <td>NaN</td>\n",
       "      <td>NaN</td>\n",
       "    </tr>\n",
       "    <tr>\n",
       "      <th>3</th>\n",
       "      <td>4</td>\n",
       "      <td>NaN</td>\n",
       "      <td>NaN</td>\n",
       "      <td>NaN</td>\n",
       "      <td>NaN</td>\n",
       "      <td>NaN</td>\n",
       "      <td>10628.0</td>\n",
       "      <td>NaN</td>\n",
       "      <td>NaN</td>\n",
       "      <td>NaN</td>\n",
       "      <td>NaN</td>\n",
       "      <td>NaN</td>\n",
       "    </tr>\n",
       "    <tr>\n",
       "      <th>4</th>\n",
       "      <td>5</td>\n",
       "      <td>NaN</td>\n",
       "      <td>NaN</td>\n",
       "      <td>NaN</td>\n",
       "      <td>NaN</td>\n",
       "      <td>NaN</td>\n",
       "      <td>13744.0</td>\n",
       "      <td>NaN</td>\n",
       "      <td>NaN</td>\n",
       "      <td>NaN</td>\n",
       "      <td>NaN</td>\n",
       "      <td>NaN</td>\n",
       "    </tr>\n",
       "    <tr>\n",
       "      <th>...</th>\n",
       "      <td>...</td>\n",
       "      <td>...</td>\n",
       "      <td>...</td>\n",
       "      <td>...</td>\n",
       "      <td>...</td>\n",
       "      <td>...</td>\n",
       "      <td>...</td>\n",
       "      <td>...</td>\n",
       "      <td>...</td>\n",
       "      <td>...</td>\n",
       "      <td>...</td>\n",
       "      <td>...</td>\n",
       "    </tr>\n",
       "    <tr>\n",
       "      <th>72</th>\n",
       "      <td>73</td>\n",
       "      <td>NaN</td>\n",
       "      <td>NaN</td>\n",
       "      <td>NaN</td>\n",
       "      <td>NaN</td>\n",
       "      <td>NaN</td>\n",
       "      <td>NaN</td>\n",
       "      <td>12053.0</td>\n",
       "      <td>NaN</td>\n",
       "      <td>NaN</td>\n",
       "      <td>NaN</td>\n",
       "      <td>NaN</td>\n",
       "    </tr>\n",
       "    <tr>\n",
       "      <th>73</th>\n",
       "      <td>74</td>\n",
       "      <td>37452.0</td>\n",
       "      <td>NaN</td>\n",
       "      <td>NaN</td>\n",
       "      <td>NaN</td>\n",
       "      <td>NaN</td>\n",
       "      <td>NaN</td>\n",
       "      <td>NaN</td>\n",
       "      <td>NaN</td>\n",
       "      <td>NaN</td>\n",
       "      <td>NaN</td>\n",
       "      <td>NaN</td>\n",
       "    </tr>\n",
       "    <tr>\n",
       "      <th>74</th>\n",
       "      <td>75</td>\n",
       "      <td>NaN</td>\n",
       "      <td>NaN</td>\n",
       "      <td>NaN</td>\n",
       "      <td>NaN</td>\n",
       "      <td>11144.0</td>\n",
       "      <td>NaN</td>\n",
       "      <td>NaN</td>\n",
       "      <td>NaN</td>\n",
       "      <td>NaN</td>\n",
       "      <td>NaN</td>\n",
       "      <td>NaN</td>\n",
       "    </tr>\n",
       "    <tr>\n",
       "      <th>75</th>\n",
       "      <td>76</td>\n",
       "      <td>NaN</td>\n",
       "      <td>NaN</td>\n",
       "      <td>NaN</td>\n",
       "      <td>NaN</td>\n",
       "      <td>NaN</td>\n",
       "      <td>NaN</td>\n",
       "      <td>12226.0</td>\n",
       "      <td>NaN</td>\n",
       "      <td>NaN</td>\n",
       "      <td>NaN</td>\n",
       "      <td>NaN</td>\n",
       "    </tr>\n",
       "    <tr>\n",
       "      <th>76</th>\n",
       "      <td>77</td>\n",
       "      <td>NaN</td>\n",
       "      <td>NaN</td>\n",
       "      <td>NaN</td>\n",
       "      <td>11501.0</td>\n",
       "      <td>NaN</td>\n",
       "      <td>NaN</td>\n",
       "      <td>NaN</td>\n",
       "      <td>NaN</td>\n",
       "      <td>NaN</td>\n",
       "      <td>NaN</td>\n",
       "      <td>NaN</td>\n",
       "    </tr>\n",
       "  </tbody>\n",
       "</table>\n",
       "<p>77 rows × 12 columns</p>\n",
       "</div>"
      ],
      "text/plain": [
       "N_CITIES  DISTRICT_ID         1   2   3        4        5        6        7  \\\n",
       "0                   1  129346.0 NaN NaN      NaN      NaN      NaN      NaN   \n",
       "1                   2       NaN NaN NaN      NaN  10825.0      NaN      NaN   \n",
       "2                   3       NaN NaN NaN      NaN  12137.0      NaN      NaN   \n",
       "3                   4       NaN NaN NaN      NaN      NaN  10628.0      NaN   \n",
       "4                   5       NaN NaN NaN      NaN      NaN  13744.0      NaN   \n",
       "..                ...       ...  ..  ..      ...      ...      ...      ...   \n",
       "72                 73       NaN NaN NaN      NaN      NaN      NaN  12053.0   \n",
       "73                 74   37452.0 NaN NaN      NaN      NaN      NaN      NaN   \n",
       "74                 75       NaN NaN NaN      NaN  11144.0      NaN      NaN   \n",
       "75                 76       NaN NaN NaN      NaN      NaN      NaN  12226.0   \n",
       "76                 77       NaN NaN NaN  11501.0      NaN      NaN      NaN   \n",
       "\n",
       "N_CITIES   8   9  10  11  \n",
       "0        NaN NaN NaN NaN  \n",
       "1        NaN NaN NaN NaN  \n",
       "2        NaN NaN NaN NaN  \n",
       "3        NaN NaN NaN NaN  \n",
       "4        NaN NaN NaN NaN  \n",
       "..        ..  ..  ..  ..  \n",
       "72       NaN NaN NaN NaN  \n",
       "73       NaN NaN NaN NaN  \n",
       "74       NaN NaN NaN NaN  \n",
       "75       NaN NaN NaN NaN  \n",
       "76       NaN NaN NaN NaN  \n",
       "\n",
       "[77 rows x 12 columns]"
      ]
     },
     "execution_count": 243,
     "metadata": {},
     "output_type": "execute_result"
    }
   ],
   "source": [
    "merge_df.pivot_table(index= 'DISTRICT_ID', columns= 'N_CITIES' ,\n",
    "                     values= 'TRANS_ID', aggfunc='count').reset_index()"
   ]
  },
  {
   "cell_type": "markdown",
   "metadata": {},
   "source": [
    "# (B) Predictive model"
   ]
  },
  {
   "cell_type": "markdown",
   "metadata": {},
   "source": [
    "# Data Pre-processing"
   ]
  },
  {
   "cell_type": "code",
   "execution_count": 300,
   "metadata": {},
   "outputs": [],
   "source": [
    "# Aggregate transaction dataset for merging\n",
    "\n",
    "transaction_aggdf= transaction_df.groupby('ACCOUNT_ID').agg(\n",
    "                                                max_date=('DATE', max),\n",
    "                                                min_date=('DATE', min),\n",
    "                                                unique_dates= ('DATE' , \"nunique\"),\n",
    "                                                num_days=(\n",
    "                                                    \"DATE\", \n",
    "                                                    lambda x: (max(x) - min(x)).days),\n",
    "                                                trans_amount= ('AMOUNT', 'mean'),\n",
    "                                                last_balance= ('BALANCE', 'last'),\n",
    "                                                type_most= ('TYPE', lambda x: x.value_counts().index[0]),\n",
    "                                                operation_most= ('OPERATION', lambda x: x.value_counts().index[0])\n",
    "                                                #type_most= ('TYPE', pd.Series.mode),\n",
    "                                                #operation_most= ('OPERATION', pd.Series.mode)\n",
    "                                                ). reset_index()"
   ]
  },
  {
   "cell_type": "code",
   "execution_count": 301,
   "metadata": {},
   "outputs": [],
   "source": [
    "# grouped = transaction_df.loc[transaction_df['ACCOUNT_ID']== 925].groupby('ACCOUNT_ID', as_index=False).agg({\n",
    "#     \"DATE\": [min, max, \"nunique\", lambda x: (max(x) - min(x)).days],\n",
    "    \n",
    "    \n",
    "# }) \n",
    "# # Using ravel, and a string join, we can create better names for the columns:\n",
    "# grouped.columns = [\"_\".join(x) for x in grouped.columns.ravel()]\n",
    "# grouped"
   ]
  },
  {
   "cell_type": "code",
   "execution_count": 325,
   "metadata": {},
   "outputs": [
    {
     "data": {
      "text/html": [
       "<div>\n",
       "<style scoped>\n",
       "    .dataframe tbody tr th:only-of-type {\n",
       "        vertical-align: middle;\n",
       "    }\n",
       "\n",
       "    .dataframe tbody tr th {\n",
       "        vertical-align: top;\n",
       "    }\n",
       "\n",
       "    .dataframe thead th {\n",
       "        text-align: right;\n",
       "    }\n",
       "</style>\n",
       "<table border=\"1\" class=\"dataframe\">\n",
       "  <thead>\n",
       "    <tr style=\"text-align: right;\">\n",
       "      <th></th>\n",
       "      <th>CLIENT_ID</th>\n",
       "      <th>ACCOUNT_ID</th>\n",
       "      <th>GENDER</th>\n",
       "      <th>BIRTH_DT</th>\n",
       "      <th>Age</th>\n",
       "      <th>ACTIVE</th>\n",
       "      <th>LOAN</th>\n",
       "      <th>DISTRICT_ID</th>\n",
       "      <th>SET_SPLIT</th>\n",
       "      <th>N_INHAB</th>\n",
       "      <th>...</th>\n",
       "      <th>CRIME_95</th>\n",
       "      <th>CRIME_96</th>\n",
       "      <th>max_date</th>\n",
       "      <th>min_date</th>\n",
       "      <th>unique_dates</th>\n",
       "      <th>num_days</th>\n",
       "      <th>trans_amount</th>\n",
       "      <th>last_balance</th>\n",
       "      <th>type_most</th>\n",
       "      <th>operation_most</th>\n",
       "    </tr>\n",
       "  </thead>\n",
       "  <tbody>\n",
       "    <tr>\n",
       "      <th>3677</th>\n",
       "      <td>4665</td>\n",
       "      <td>3871</td>\n",
       "      <td>F</td>\n",
       "      <td>1926-08-27</td>\n",
       "      <td>94</td>\n",
       "      <td>1</td>\n",
       "      <td>0</td>\n",
       "      <td>9</td>\n",
       "      <td>TRAIN</td>\n",
       "      <td>81344</td>\n",
       "      <td>...</td>\n",
       "      <td>2987</td>\n",
       "      <td>2487</td>\n",
       "      <td>1998-12-31</td>\n",
       "      <td>1993-01-08</td>\n",
       "      <td>342</td>\n",
       "      <td>2183</td>\n",
       "      <td>1370.803555</td>\n",
       "      <td>59739.6</td>\n",
       "      <td>WITHDRAWAL</td>\n",
       "      <td>WITHDRAWAL_IN_CASH</td>\n",
       "    </tr>\n",
       "    <tr>\n",
       "      <th>1350</th>\n",
       "      <td>1724</td>\n",
       "      <td>1422</td>\n",
       "      <td>F</td>\n",
       "      <td>1934-10-21</td>\n",
       "      <td>86</td>\n",
       "      <td>1</td>\n",
       "      <td>0</td>\n",
       "      <td>68</td>\n",
       "      <td>TRAIN</td>\n",
       "      <td>228848</td>\n",
       "      <td>...</td>\n",
       "      <td>5623</td>\n",
       "      <td>5887</td>\n",
       "      <td>1998-12-31</td>\n",
       "      <td>1993-04-09</td>\n",
       "      <td>290</td>\n",
       "      <td>2092</td>\n",
       "      <td>2122.012672</td>\n",
       "      <td>38150.4</td>\n",
       "      <td>WITHDRAWAL</td>\n",
       "      <td>WITHDRAWAL_IN_CASH</td>\n",
       "    </tr>\n",
       "    <tr>\n",
       "      <th>1502</th>\n",
       "      <td>1916</td>\n",
       "      <td>1582</td>\n",
       "      <td>M</td>\n",
       "      <td>1926-07-19</td>\n",
       "      <td>94</td>\n",
       "      <td>1</td>\n",
       "      <td>0</td>\n",
       "      <td>28</td>\n",
       "      <td>TRAIN</td>\n",
       "      <td>72541</td>\n",
       "      <td>...</td>\n",
       "      <td>1580</td>\n",
       "      <td>1525</td>\n",
       "      <td>1998-12-31</td>\n",
       "      <td>1996-05-01</td>\n",
       "      <td>137</td>\n",
       "      <td>974</td>\n",
       "      <td>2163.074269</td>\n",
       "      <td>19305.2</td>\n",
       "      <td>WITHDRAWAL</td>\n",
       "      <td>WITHDRAWAL_IN_CASH</td>\n",
       "    </tr>\n",
       "    <tr>\n",
       "      <th>72</th>\n",
       "      <td>91</td>\n",
       "      <td>77</td>\n",
       "      <td>M</td>\n",
       "      <td>1940-08-07</td>\n",
       "      <td>80</td>\n",
       "      <td>1</td>\n",
       "      <td>0</td>\n",
       "      <td>63</td>\n",
       "      <td>TRAIN</td>\n",
       "      <td>86513</td>\n",
       "      <td>...</td>\n",
       "      <td>1562</td>\n",
       "      <td>1460</td>\n",
       "      <td>1998-12-31</td>\n",
       "      <td>1996-11-19</td>\n",
       "      <td>82</td>\n",
       "      <td>772</td>\n",
       "      <td>8922.564423</td>\n",
       "      <td>19338.7</td>\n",
       "      <td>CREDIT</td>\n",
       "      <td>WITHDRAWAL_IN_CASH</td>\n",
       "    </tr>\n",
       "    <tr>\n",
       "      <th>3417</th>\n",
       "      <td>4338</td>\n",
       "      <td>3595</td>\n",
       "      <td>M</td>\n",
       "      <td>1944-10-25</td>\n",
       "      <td>76</td>\n",
       "      <td>1</td>\n",
       "      <td>0</td>\n",
       "      <td>30</td>\n",
       "      <td>TRAIN</td>\n",
       "      <td>94812</td>\n",
       "      <td>...</td>\n",
       "      <td>2985</td>\n",
       "      <td>2804</td>\n",
       "      <td>1998-12-31</td>\n",
       "      <td>1994-05-01</td>\n",
       "      <td>255</td>\n",
       "      <td>1705</td>\n",
       "      <td>4669.002208</td>\n",
       "      <td>29928.6</td>\n",
       "      <td>WITHDRAWAL</td>\n",
       "      <td>WITHDRAWAL_IN_CASH</td>\n",
       "    </tr>\n",
       "  </tbody>\n",
       "</table>\n",
       "<p>5 rows × 26 columns</p>\n",
       "</div>"
      ],
      "text/plain": [
       "      CLIENT_ID  ACCOUNT_ID GENDER   BIRTH_DT  Age  ACTIVE  LOAN  DISTRICT_ID  \\\n",
       "3677       4665        3871      F 1926-08-27   94       1     0            9   \n",
       "1350       1724        1422      F 1934-10-21   86       1     0           68   \n",
       "1502       1916        1582      M 1926-07-19   94       1     0           28   \n",
       "72           91          77      M 1940-08-07   80       1     0           63   \n",
       "3417       4338        3595      M 1944-10-25   76       1     0           30   \n",
       "\n",
       "     SET_SPLIT  N_INHAB  ...  CRIME_95  CRIME_96   max_date   min_date  \\\n",
       "3677     TRAIN    81344  ...      2987      2487 1998-12-31 1993-01-08   \n",
       "1350     TRAIN   228848  ...      5623      5887 1998-12-31 1993-04-09   \n",
       "1502     TRAIN    72541  ...      1580      1525 1998-12-31 1996-05-01   \n",
       "72       TRAIN    86513  ...      1562      1460 1998-12-31 1996-11-19   \n",
       "3417     TRAIN    94812  ...      2985      2804 1998-12-31 1994-05-01   \n",
       "\n",
       "      unique_dates  num_days trans_amount  last_balance   type_most  \\\n",
       "3677           342      2183  1370.803555       59739.6  WITHDRAWAL   \n",
       "1350           290      2092  2122.012672       38150.4  WITHDRAWAL   \n",
       "1502           137       974  2163.074269       19305.2  WITHDRAWAL   \n",
       "72              82       772  8922.564423       19338.7      CREDIT   \n",
       "3417           255      1705  4669.002208       29928.6  WITHDRAWAL   \n",
       "\n",
       "          operation_most  \n",
       "3677  WITHDRAWAL_IN_CASH  \n",
       "1350  WITHDRAWAL_IN_CASH  \n",
       "1502  WITHDRAWAL_IN_CASH  \n",
       "72    WITHDRAWAL_IN_CASH  \n",
       "3417  WITHDRAWAL_IN_CASH  \n",
       "\n",
       "[5 rows x 26 columns]"
      ]
     },
     "execution_count": 325,
     "metadata": {},
     "output_type": "execute_result"
    }
   ],
   "source": [
    "model_df = (pd.merge(customer_df, district_df, how = 'left', on = \"DISTRICT_ID\")\\\n",
    "            .merge(transaction_aggdf , how ='left', on = 'ACCOUNT_ID')\n",
    "           )\n",
    "model_df.sample(5)"
   ]
  },
  {
   "cell_type": "code",
   "execution_count": 303,
   "metadata": {},
   "outputs": [
    {
     "name": "stdout",
     "output_type": "stream",
     "text": [
      "<class 'pandas.core.frame.DataFrame'>\n",
      "Int64Index: 4500 entries, 0 to 4499\n",
      "Data columns (total 26 columns):\n",
      " #   Column          Non-Null Count  Dtype         \n",
      "---  ------          --------------  -----         \n",
      " 0   CLIENT_ID       4500 non-null   int64         \n",
      " 1   ACCOUNT_ID      4500 non-null   int64         \n",
      " 2   GENDER          4500 non-null   object        \n",
      " 3   BIRTH_DT        4500 non-null   datetime64[ns]\n",
      " 4   Age             4500 non-null   int64         \n",
      " 5   ACTIVE          4500 non-null   int64         \n",
      " 6   LOAN            4500 non-null   int64         \n",
      " 7   DISTRICT_ID     4500 non-null   int64         \n",
      " 8   SET_SPLIT       4500 non-null   object        \n",
      " 9   N_INHAB         4500 non-null   int64         \n",
      " 10  N_CITIES        4500 non-null   int64         \n",
      " 11  URBAN_RATIO     4500 non-null   float64       \n",
      " 12  AVG_SALARY      4500 non-null   int64         \n",
      " 13  UNEMP_95        4500 non-null   object        \n",
      " 14  UNEMP_96        4500 non-null   float64       \n",
      " 15  N_ENTR          4500 non-null   int64         \n",
      " 16  CRIME_95        4500 non-null   object        \n",
      " 17  CRIME_96        4500 non-null   int64         \n",
      " 18  max_date        4500 non-null   datetime64[ns]\n",
      " 19  min_date        4500 non-null   datetime64[ns]\n",
      " 20  unique_dates    4500 non-null   int64         \n",
      " 21  num_days        4500 non-null   int64         \n",
      " 22  trans_amount    4500 non-null   float64       \n",
      " 23  last_balance    4500 non-null   float64       \n",
      " 24  type_most       4500 non-null   object        \n",
      " 25  operation_most  4500 non-null   object        \n",
      "dtypes: datetime64[ns](3), float64(4), int64(13), object(6)\n",
      "memory usage: 949.2+ KB\n"
     ]
    }
   ],
   "source": [
    "model_df.info()"
   ]
  },
  {
   "cell_type": "code",
   "execution_count": 275,
   "metadata": {},
   "outputs": [
    {
     "data": {
      "image/png": "[encoded data removed]",
      "text/plain": [
       "<Figure size 432x288 with 1 Axes>"
      ]
     },
     "metadata": {},
     "output_type": "display_data"
    }
   ],
   "source": [
    "# plot bar chart\n",
    "model_df['LOAN'].value_counts(normalize=True).plot.bar(title= 'Loan distribution')\n",
    "plt.show()"
   ]
  },
  {
   "cell_type": "code",
   "execution_count": 286,
   "metadata": {},
   "outputs": [
    {
     "name": "stdout",
     "output_type": "stream",
     "text": [
      "GENDER     F     M\n",
      "LOAN              \n",
      "0       1860  1958\n",
      "1        348   334\n"
     ]
    },
    {
     "data": {
      "image/png": "[encoded data removed]",
      "text/plain": [
       "<Figure size 288x288 with 1 Axes>"
      ]
     },
     "metadata": {},
     "output_type": "display_data"
    }
   ],
   "source": [
    "print(pd.crosstab(model_df['LOAN'], model_df['GENDER']))\n",
    "\n",
    "Gender= pd.crosstab(model_df['LOAN'], model_df['GENDER'])\n",
    "Gender.div(Gender.sum(1).astype(float), axis= 0).plot(kind=\"bar\", stacked=True, figsize=(4,4))\n",
    "plt.xlabel('Gender')\n",
    "p = plt.ylabel('Percentage')"
   ]
  },
  {
   "cell_type": "code",
   "execution_count": 277,
   "metadata": {},
   "outputs": [
    {
     "data": {
      "text/plain": [
       "51-70    1626\n",
       "35-50    1027\n",
       "80+      1007\n",
       "71-80     840\n",
       "Name: Age_bin, dtype: int64"
      ]
     },
     "execution_count": 277,
     "metadata": {},
     "output_type": "execute_result"
    }
   ],
   "source": [
    "# Analyze applicant age\n",
    "\n",
    "# making bins for Coapplicant income variable\n",
    "bins = [35,50,70, 80, 110]\n",
    "group = ['35-50','51-70','71-80','80+']\n",
    "Age_bin = pd.cut(model_df['Age'],bins,labels=group)\n",
    "model_df.insert(5, 'Age_bin', Age_bin, True)\n",
    "model_df.Age_bin.value_counts()"
   ]
  },
  {
   "cell_type": "code",
   "execution_count": 278,
   "metadata": {},
   "outputs": [
    {
     "data": {
      "image/png": "[encoded data removed]",
      "text/plain": [
       "<Figure size 432x288 with 1 Axes>"
      ]
     },
     "metadata": {},
     "output_type": "display_data"
    }
   ],
   "source": [
    "# plot the chart\n",
    "Age_bin_loan = pd.crosstab(model_df['Age_bin'],model_df['LOAN'])\n",
    "Age_bin_loan.div(Age_bin_loan.sum(1).astype(float), axis=0).plot(kind=\"bar\", stacked=True)\n",
    "plt.xlabel('Age Groups')\n",
    "P = plt.ylabel('Percentage')"
   ]
  },
  {
   "cell_type": "markdown",
   "metadata": {},
   "source": [
    "It seems that age is important for deciding whether a customer is granted a loan or not."
   ]
  },
  {
   "cell_type": "code",
   "execution_count": 315,
   "metadata": {},
   "outputs": [
    {
     "name": "stdout",
     "output_type": "stream",
     "text": [
      "type_most  CREDIT  WITHDRAWAL\n",
      "LOAN                         \n",
      "0             412        3406\n",
      "1              22         660\n"
     ]
    },
    {
     "data": {
      "image/png": "[encoded data removed]",
      "text/plain": [
       "<Figure size 288x288 with 1 Axes>"
      ]
     },
     "metadata": {},
     "output_type": "display_data"
    }
   ],
   "source": [
    "print(pd.crosstab(model_df['LOAN'], model_df['type_most']))\n",
    "\n",
    "type_most= pd.crosstab( model_df['type_most'], model_df['LOAN'])\n",
    "type_most.div(type_most.sum(1).astype(float), axis= 0).plot(kind=\"bar\", stacked=True, figsize=(4,4))\n",
    "plt.xlabel('Transaction type')\n",
    "plt.legend(loc= 'best')\n",
    "p = plt.ylabel('Percentage')"
   ]
  },
  {
   "cell_type": "markdown",
   "metadata": {},
   "source": [
    "The customers who has their most transaction type by WITHDRAWAL, have high probability to get a loan compare to those customers who have their most transaction type by CREDIT."
   ]
  },
  {
   "cell_type": "code",
   "execution_count": 471,
   "metadata": {},
   "outputs": [
    {
     "name": "stdout",
     "output_type": "stream",
     "text": [
      "operation_most  COLLECTION_FROM_OTHER_BANK  CREDIT_IN_CASH  \\\n",
      "LOAN                                                         \n",
      "0                                        5             134   \n",
      "1                                        0               4   \n",
      "\n",
      "operation_most  REMITTANCE_TO_OTHER_BANK  WITHDRAWAL_IN_CASH  \n",
      "LOAN                                                          \n",
      "0                                    428                3251  \n",
      "1                                    119                 559  \n"
     ]
    },
    {
     "data": {
      "image/png": "[encoded data removed]",
      "text/plain": [
       "<Figure size 288x288 with 1 Axes>"
      ]
     },
     "metadata": {},
     "output_type": "display_data"
    }
   ],
   "source": [
    "print(pd.crosstab(model_df['LOAN'], model_df['operation_most']))\n",
    "\n",
    "type_most= pd.crosstab( model_df['operation_most'], model_df['LOAN'])\n",
    "type_most.div(type_most.sum(1).astype(float), axis= 0).plot(kind=\"bar\", stacked=True, figsize=(4,4))\n",
    "plt.xlabel('Transaction Operation type')\n",
    "plt.legend(loc= 'lower right')\n",
    "p = plt.ylabel('Percentage')"
   ]
  },
  {
   "cell_type": "code",
   "execution_count": 327,
   "metadata": {},
   "outputs": [],
   "source": [
    "# Convert gender from F, M to 0,1\n",
    "model_df['GENDER'].replace({'F':0, 'M':1}, inplace = True)"
   ]
  },
  {
   "cell_type": "code",
   "execution_count": 329,
   "metadata": {},
   "outputs": [],
   "source": [
    "model_df['DISTRICT_ID']= model_df['DISTRICT_ID'].astype('str')"
   ]
  },
  {
   "cell_type": "code",
   "execution_count": 330,
   "metadata": {},
   "outputs": [],
   "source": [
    "model_df['UNEMP_95'] = model_df['UNEMP_95'].replace('?', np.nan).astype(float)\n",
    "model_df['CRIME_95']= model_df['CRIME_95'].replace('?', np.nan).astype(float) \n"
   ]
  },
  {
   "cell_type": "code",
   "execution_count": 331,
   "metadata": {},
   "outputs": [],
   "source": [
    "# replacing missing values\n",
    "model_df['UNEMP_95'].fillna(np.mean(df1['UNEMP_95']),inplace=True )\n",
    "model_df['CRIME_95'].fillna(np.mean(df1['CRIME_95']),inplace=True )"
   ]
  },
  {
   "cell_type": "code",
   "execution_count": 332,
   "metadata": {
    "scrolled": true
   },
   "outputs": [
    {
     "data": {
      "text/html": [
       "<div>\n",
       "<style scoped>\n",
       "    .dataframe tbody tr th:only-of-type {\n",
       "        vertical-align: middle;\n",
       "    }\n",
       "\n",
       "    .dataframe tbody tr th {\n",
       "        vertical-align: top;\n",
       "    }\n",
       "\n",
       "    .dataframe thead th {\n",
       "        text-align: right;\n",
       "    }\n",
       "</style>\n",
       "<table border=\"1\" class=\"dataframe\">\n",
       "  <thead>\n",
       "    <tr style=\"text-align: right;\">\n",
       "      <th></th>\n",
       "      <th>counts</th>\n",
       "    </tr>\n",
       "  </thead>\n",
       "  <tbody>\n",
       "    <tr>\n",
       "      <th>DISTRICT_ID</th>\n",
       "      <td>77</td>\n",
       "    </tr>\n",
       "    <tr>\n",
       "      <th>operation_most</th>\n",
       "      <td>4</td>\n",
       "    </tr>\n",
       "    <tr>\n",
       "      <th>SET_SPLIT</th>\n",
       "      <td>2</td>\n",
       "    </tr>\n",
       "    <tr>\n",
       "      <th>type_most</th>\n",
       "      <td>2</td>\n",
       "    </tr>\n",
       "  </tbody>\n",
       "</table>\n",
       "</div>"
      ],
      "text/plain": [
       "                counts\n",
       "DISTRICT_ID         77\n",
       "operation_most       4\n",
       "SET_SPLIT            2\n",
       "type_most            2"
      ]
     },
     "execution_count": 332,
     "metadata": {},
     "output_type": "execute_result"
    }
   ],
   "source": [
    "list_columns= model_df.select_dtypes(include='O').columns\n",
    "d= {}\n",
    "for col in list_columns:\n",
    "    value= len(model_df[col].value_counts().index)\n",
    "    d[col]= value\n",
    "\n",
    "# Create dataframe from dic and make keys, index in dataframe\n",
    "value_count_df = pd.DataFrame.from_dict(d, orient='index')\n",
    "value_count_df.rename(columns= {0: 'counts'}, inplace=True)\n",
    "value_count_df.sort_values(by= 'counts', ascending=False)\n"
   ]
  },
  {
   "cell_type": "code",
   "execution_count": 366,
   "metadata": {},
   "outputs": [],
   "source": [
    "# Train-Test split\n",
    "\n",
    "train= model_df.loc[df1.SET_SPLIT== 'TRAIN']\n",
    "test= model_df.loc[df1.SET_SPLIT== 'TEST']\n",
    "\n"
   ]
  },
  {
   "cell_type": "code",
   "execution_count": 367,
   "metadata": {},
   "outputs": [
    {
     "name": "stdout",
     "output_type": "stream",
     "text": [
      "<class 'pandas.core.frame.DataFrame'>\n",
      "Int64Index: 3601 entries, 0 to 4499\n",
      "Data columns (total 26 columns):\n",
      " #   Column          Non-Null Count  Dtype         \n",
      "---  ------          --------------  -----         \n",
      " 0   CLIENT_ID       3601 non-null   int64         \n",
      " 1   ACCOUNT_ID      3601 non-null   int64         \n",
      " 2   GENDER          3601 non-null   int64         \n",
      " 3   BIRTH_DT        3601 non-null   datetime64[ns]\n",
      " 4   Age             3601 non-null   int64         \n",
      " 5   ACTIVE          3601 non-null   int64         \n",
      " 6   LOAN            3601 non-null   int64         \n",
      " 7   DISTRICT_ID     3601 non-null   object        \n",
      " 8   SET_SPLIT       3601 non-null   object        \n",
      " 9   N_INHAB         3601 non-null   int64         \n",
      " 10  N_CITIES        3601 non-null   int64         \n",
      " 11  URBAN_RATIO     3601 non-null   float64       \n",
      " 12  AVG_SALARY      3601 non-null   int64         \n",
      " 13  UNEMP_95        3601 non-null   float64       \n",
      " 14  UNEMP_96        3601 non-null   float64       \n",
      " 15  N_ENTR          3601 non-null   int64         \n",
      " 16  CRIME_95        3601 non-null   float64       \n",
      " 17  CRIME_96        3601 non-null   int64         \n",
      " 18  max_date        3601 non-null   datetime64[ns]\n",
      " 19  min_date        3601 non-null   datetime64[ns]\n",
      " 20  unique_dates    3601 non-null   int64         \n",
      " 21  num_days        3601 non-null   int64         \n",
      " 22  trans_amount    3601 non-null   float64       \n",
      " 23  last_balance    3601 non-null   float64       \n",
      " 24  type_most       3601 non-null   object        \n",
      " 25  operation_most  3601 non-null   object        \n",
      "dtypes: datetime64[ns](3), float64(6), int64(13), object(4)\n",
      "memory usage: 759.6+ KB\n"
     ]
    }
   ],
   "source": [
    "train.info()"
   ]
  },
  {
   "cell_type": "code",
   "execution_count": 381,
   "metadata": {},
   "outputs": [],
   "source": [
    "target= 'LOAN'\n",
    "IDcols = ['CLIENT_ID', 'ACCOUNT_ID', 'DISTRICT_ID']\n",
    "deleted_cols= ['BIRTH_DT','SET_SPLIT', 'max_date', 'min_date']\n",
    "\n",
    "predictors = [x for x in train.columns if x not in target and  x not in IDcols and  x not in deleted_cols]"
   ]
  },
  {
   "cell_type": "code",
   "execution_count": 431,
   "metadata": {},
   "outputs": [
    {
     "name": "stdout",
     "output_type": "stream",
     "text": [
      "(3601, 22) (3601, 26) (899, 26)\n"
     ]
    }
   ],
   "source": [
    "# drop \"Loan_Status\" and assign it to target variable\n",
    "X = train[predictors]\n",
    "y = train[target]\n",
    "\n",
    "# adding dummies to the dataset\n",
    "X = pd.get_dummies(X)\n",
    "# train = pd.get_dummies(train)\n",
    "# test = pd.get_dummies(test)\n",
    "\n",
    "print(X.shape, train.shape, test.shape)"
   ]
  },
  {
   "cell_type": "code",
   "execution_count": 31,
   "metadata": {},
   "outputs": [],
   "source": [
    "# Convert to dummy variables\n",
    "def one_hot_encoder(df, ohe_cols= []):\n",
    "    '''\n",
    "    One-Hot Encoder function\n",
    "    '''\n",
    "    print('Creating OHE features..\\nOld df shape:{}'.format(df.shape))\n",
    "    df = pd.get_dummies(df, columns=ohe_cols)\n",
    "    \n",
    "    # Rename Column names\n",
    "    import re\n",
    "\n",
    "    df = df.rename(columns = lambda x:re.sub('[^A-Za-z0-9_]+', '', x))\n",
    "    \n",
    "    print('New df shape:{}'.format(df.shape))\n",
    "    return df"
   ]
  },
  {
   "cell_type": "markdown",
   "metadata": {},
   "source": [
    "# Model Development and Evaluation"
   ]
  },
  {
   "cell_type": "code",
   "execution_count": 432,
   "metadata": {},
   "outputs": [],
   "source": [
    "# import library\n",
    "from sklearn.model_selection import train_test_split"
   ]
  },
  {
   "cell_type": "code",
   "execution_count": 433,
   "metadata": {},
   "outputs": [
    {
     "data": {
      "text/plain": [
       "((2520, 22), (1081, 22), (2520,), (1081,))"
      ]
     },
     "execution_count": 433,
     "metadata": {},
     "output_type": "execute_result"
    }
   ],
   "source": [
    "\n",
    "# split the data into train and cross validation set\n",
    "x_train, x_cv, y_train, y_cv = train_test_split(X, y, test_size=0.3, random_state=123,stratify= y)\n",
    "\n",
    "# take a look at the dimension of the data\n",
    "x_train.shape, x_cv.shape, y_train.shape, y_cv.shape"
   ]
  },
  {
   "cell_type": "code",
   "execution_count": null,
   "metadata": {},
   "outputs": [],
   "source": [
    "# Create Basic Models\n",
    "# Create a list of classifiers\n",
    "\n",
    "classifiers = [\n",
    "    LinearRegression(),\n",
    "    ElasticNet(),\n",
    "    RidgeCV(alphas=[1e-3, 1e-2, 1e-1, 1]),\n",
    "    KernelRidge(alpha=0.6, kernel='polynomial', degree=3, coef0=2.5),\n",
    "    Lasso(alpha =16, random_state=100),\n",
    "    ElasticNet(alpha=0.8),\n",
    "    DecisionTreeRegressor(),\n",
    "    RandomForestRegressor(),\n",
    "    GradientBoostingRegressor(),\n",
    "    AdaBoostRegressor(),\n",
    "    SVR(), \n",
    "    LinearSVR(), \n",
    "    NuSVR(),\n",
    "    xgb.XGBRegressor(),\n",
    "    lgb.LGBMRegressor()\n",
    "    ]\n",
    "\n",
    "name = []\n",
    "train_score = []\n",
    "test_score = []\n",
    "models = []\n",
    "rmse = []\n",
    "i = 0\n",
    "\n",
    "for classifier in classifiers:\n",
    "    classifier.fit(X, y)   \n",
    "    name.append(type(classifier).__name__)\n",
    "    train_score.append(classifier.score(X_train, y_train))\n",
    "    test_score.append(classifier.score(X_test, y_test))\n",
    "    models.append(classifier)\n",
    "    rmse.append(np.sqrt(mean_squared_error(classifier.predict(X_test), y_test)))\n",
    "\n",
    "# Comparing model performance\n",
    "\n",
    "df_score = pd.DataFrame(list(zip(name,rmse, train_score, test_score, models)),columns=['name','rmse','train_score','test_score',\"model\"])\n",
    "df_score.set_index('name',inplace=True)\n",
    "print(df_score.sort_values(by=['test_score'],inplace=True))"
   ]
  },
  {
   "cell_type": "code",
   "execution_count": 434,
   "metadata": {},
   "outputs": [],
   "source": [
    "# import libraries\n",
    "from sklearn.linear_model import LogisticRegression\n",
    "from sklearn.metrics import accuracy_score"
   ]
  },
  {
   "cell_type": "code",
   "execution_count": 436,
   "metadata": {},
   "outputs": [
    {
     "data": {
      "text/plain": [
       "LogisticRegression()"
      ]
     },
     "execution_count": 436,
     "metadata": {},
     "output_type": "execute_result"
    }
   ],
   "source": [
    "# fit the model\n",
    "model_lr= LogisticRegression()\n",
    "model_lr.fit(x_train, y_train)"
   ]
  },
  {
   "cell_type": "code",
   "execution_count": 47,
   "metadata": {},
   "outputs": [
    {
     "name": "stdout",
     "output_type": "stream",
     "text": [
      "Feature: 0, Score: -0.00000\n",
      "Feature: 1, Score: -0.00001\n",
      "Feature: 2, Score: -0.00000\n",
      "Feature: 3, Score: 0.00000\n",
      "Feature: 4, Score: -0.00000\n",
      "Feature: 5, Score: -0.00000\n",
      "Feature: 6, Score: -0.00022\n",
      "Feature: 7, Score: -0.00000\n",
      "Feature: 8, Score: -0.00000\n",
      "Feature: 9, Score: -0.00000\n",
      "Feature: 10, Score: 0.00000\n",
      "Feature: 11, Score: -0.00003\n",
      "Feature: 12, Score: -0.00000\n",
      "Feature: 13, Score: 0.00000\n",
      "Feature: 14, Score: 0.00000\n",
      "Feature: 15, Score: 0.00000\n",
      "Feature: 16, Score: -0.00000\n",
      "Feature: 17, Score: 0.00000\n",
      "Feature: 18, Score: 0.00000\n",
      "Feature: 19, Score: -0.00000\n",
      "Feature: 20, Score: 0.00000\n",
      "Feature: 21, Score: -0.00000\n",
      "Feature: 22, Score: 0.00000\n",
      "Feature: 23, Score: 0.00000\n",
      "Feature: 24, Score: 0.00000\n",
      "Feature: 25, Score: -0.00000\n",
      "Feature: 26, Score: -0.00000\n",
      "Feature: 27, Score: -0.00000\n",
      "Feature: 28, Score: -0.00000\n",
      "Feature: 29, Score: -0.00000\n",
      "Feature: 30, Score: -0.00000\n",
      "Feature: 31, Score: 0.00000\n",
      "Feature: 32, Score: -0.00000\n",
      "Feature: 33, Score: 0.00000\n",
      "Feature: 34, Score: -0.00000\n",
      "Feature: 35, Score: -0.00000\n",
      "Feature: 36, Score: 0.00000\n",
      "Feature: 37, Score: 0.00000\n",
      "Feature: 38, Score: -0.00000\n",
      "Feature: 39, Score: 0.00000\n",
      "Feature: 40, Score: -0.00000\n",
      "Feature: 41, Score: 0.00000\n",
      "Feature: 42, Score: 0.00000\n",
      "Feature: 43, Score: -0.00000\n",
      "Feature: 44, Score: -0.00000\n",
      "Feature: 45, Score: -0.00000\n",
      "Feature: 46, Score: -0.00000\n",
      "Feature: 47, Score: -0.00000\n",
      "Feature: 48, Score: -0.00000\n",
      "Feature: 49, Score: 0.00000\n",
      "Feature: 50, Score: -0.00000\n",
      "Feature: 51, Score: -0.00000\n",
      "Feature: 52, Score: -0.00000\n",
      "Feature: 53, Score: 0.00000\n",
      "Feature: 54, Score: -0.00000\n",
      "Feature: 55, Score: 0.00000\n",
      "Feature: 56, Score: 0.00000\n",
      "Feature: 57, Score: 0.00000\n",
      "Feature: 58, Score: -0.00000\n",
      "Feature: 59, Score: 0.00000\n",
      "Feature: 60, Score: 0.00000\n",
      "Feature: 61, Score: 0.00000\n",
      "Feature: 62, Score: 0.00000\n",
      "Feature: 63, Score: 0.00000\n",
      "Feature: 64, Score: 0.00000\n",
      "Feature: 65, Score: -0.00000\n",
      "Feature: 66, Score: -0.00000\n",
      "Feature: 67, Score: 0.00000\n",
      "Feature: 68, Score: -0.00000\n",
      "Feature: 69, Score: -0.00000\n",
      "Feature: 70, Score: -0.00000\n",
      "Feature: 71, Score: -0.00000\n",
      "Feature: 72, Score: 0.00000\n",
      "Feature: 73, Score: -0.00000\n",
      "Feature: 74, Score: -0.00000\n",
      "Feature: 75, Score: -0.00000\n",
      "Feature: 76, Score: 0.00000\n",
      "Feature: 77, Score: -0.00000\n",
      "Feature: 78, Score: -0.00000\n",
      "Feature: 79, Score: 0.00000\n",
      "Feature: 80, Score: -0.00000\n",
      "Feature: 81, Score: -0.00000\n",
      "Feature: 82, Score: -0.00000\n",
      "Feature: 83, Score: 0.00000\n",
      "Feature: 84, Score: -0.00000\n",
      "Feature: 85, Score: -0.00000\n",
      "Feature: 86, Score: 0.00000\n",
      "Feature: 87, Score: 0.00000\n",
      "Feature: 88, Score: 0.00000\n"
     ]
    },
    {
     "data": {
      "image/png": "[encoded data removed]",
      "text/plain": [
       "<Figure size 432x288 with 1 Axes>"
      ]
     },
     "metadata": {
      "needs_background": "light"
     },
     "output_type": "display_data"
    }
   ],
   "source": [
    "# get importance\n",
    "importance = model.coef_[0]\n",
    "# summarize feature importance\n",
    "for i,v in enumerate(importance):\n",
    "    print('Feature: %0d, Score: %.5f' % (i,v))\n",
    "# plot feature importance\n",
    "plt.bar([x for x in range(len(importance))], importance)\n",
    "plt.show()"
   ]
  },
  {
   "cell_type": "markdown",
   "metadata": {},
   "source": [
    "Running the example fits the model, then reports the coefficient value for each feature."
   ]
  },
  {
   "cell_type": "code",
   "execution_count": 438,
   "metadata": {},
   "outputs": [
    {
     "data": {
      "text/plain": [
       "0.8399629972247918"
      ]
     },
     "execution_count": 438,
     "metadata": {},
     "output_type": "execute_result"
    }
   ],
   "source": [
    "# make prediction\n",
    "pred_cv = model_lr.predict(x_cv)\n",
    "\n",
    "# calculate accuracy score\n",
    "accuracy_score(y_cv, pred_cv)"
   ]
  },
  {
   "cell_type": "code",
   "execution_count": 439,
   "metadata": {},
   "outputs": [
    {
     "data": {
      "text/plain": [
       "0.8399629972247918"
      ]
     },
     "execution_count": 439,
     "metadata": {},
     "output_type": "execute_result"
    }
   ],
   "source": [
    "# calculate accuracy score\n",
    "accuracy_score(y_cv, pred_cv)"
   ]
  },
  {
   "cell_type": "code",
   "execution_count": 440,
   "metadata": {},
   "outputs": [
    {
     "name": "stdout",
     "output_type": "stream",
     "text": [
      "[[888  29]\n",
      " [144  20]]\n"
     ]
    },
    {
     "data": {
      "text/plain": [
       "Text(30.5, 0.5, 'True')"
      ]
     },
     "execution_count": 440,
     "metadata": {},
     "output_type": "execute_result"
    },
    {
     "data": {
      "image/png": "[encoded data removed]",
      "text/plain": [
       "<Figure size 432x288 with 2 Axes>"
      ]
     },
     "metadata": {},
     "output_type": "display_data"
    }
   ],
   "source": [
    "# import confusion_matrix\n",
    "from sklearn.metrics import confusion_matrix\n",
    " \n",
    "cm = confusion_matrix(y_cv, pred_cv)\n",
    "print(cm)\n",
    "\n",
    "# f, ax = plt.subplots(figsize=(9, 6))\n",
    "sns.heatmap(cm, annot=True, fmt=\"d\")\n",
    "plt.title('Confusion matrix of the classifier')\n",
    "plt.xlabel('Predicted')\n",
    "plt.ylabel('True')"
   ]
  },
  {
   "cell_type": "code",
   "execution_count": 441,
   "metadata": {},
   "outputs": [
    {
     "name": "stdout",
     "output_type": "stream",
     "text": [
      "              precision    recall  f1-score   support\n",
      "\n",
      "           0       0.86      0.97      0.91       917\n",
      "           1       0.41      0.12      0.19       164\n",
      "\n",
      "    accuracy                           0.84      1081\n",
      "   macro avg       0.63      0.55      0.55      1081\n",
      "weighted avg       0.79      0.84      0.80      1081\n",
      "\n"
     ]
    }
   ],
   "source": [
    "# import classification_report\n",
    "from sklearn.metrics import classification_report\n",
    "print(classification_report(y_cv, pred_cv))"
   ]
  },
  {
   "cell_type": "markdown",
   "metadata": {},
   "source": [
    "## Logistic Regression using stratified k-folds cross-validation"
   ]
  },
  {
   "cell_type": "code",
   "execution_count": 442,
   "metadata": {},
   "outputs": [],
   "source": [
    "from sklearn.model_selection import StratifiedKFold"
   ]
  },
  {
   "cell_type": "code",
   "execution_count": 451,
   "metadata": {},
   "outputs": [
    {
     "name": "stdout",
     "output_type": "stream",
     "text": [
      "\n",
      "1 of kfold 5 \n",
      "accuracy_score 0.8432539682539683\n",
      "CV accuracy_score 0.8408880666049954\n",
      "\n",
      "2 of kfold 5 \n",
      "accuracy_score 0.8472222222222222\n",
      "CV accuracy_score 0.849213691026827\n",
      "\n",
      "3 of kfold 5 \n",
      "accuracy_score 0.8373015873015873\n",
      "CV accuracy_score 0.8427382053654024\n",
      "\n",
      "4 of kfold 5 \n",
      "accuracy_score 0.8571428571428571\n",
      "CV accuracy_score 0.8436632747456059\n",
      "\n",
      "5 of kfold 5 \n",
      "accuracy_score 0.8412698412698413\n",
      "CV accuracy_score 0.84736355226642\n",
      "\n",
      " Mean Validation Accuracy 0.8452380952380952\n"
     ]
    }
   ],
   "source": [
    "# let’s make a cross-validation logistic model with stratified 5 folds and make predictions for the test dataset.\n",
    "i=1\n",
    "mean = 0\n",
    "kf = StratifiedKFold(n_splits=5,random_state=1, shuffle=True)\n",
    "X= x_train.copy()\n",
    "y= y_train.copy()\n",
    "\n",
    "for train_index,test_index in kf.split(X,y):\n",
    "    print (\"\\n{} of kfold {} \".format(i,kf.n_splits))\n",
    "    xtr,xvl = X.iloc[train_index], X.iloc[test_index]\n",
    "    ytr,yvl = y.iloc[train_index], y.iloc[test_index]\n",
    "    \n",
    "    model = LogisticRegression(random_state=1)\n",
    "    model.fit(xtr,ytr)\n",
    "    \n",
    "    pred_test=model.predict(xvl)\n",
    "    score=accuracy_score(yvl,pred_test)\n",
    "    mean += score\n",
    "    print (\"accuracy_score\",score)\n",
    "    i+=1\n",
    "    pred_cv = model.predict(x_cv)\n",
    "    print (\"CV accuracy_score\",accuracy_score(y_cv,pred_cv))\n",
    "    pred = model.predict_proba(xvl)[:,1]\n",
    "    \n",
    "print(\"\\n Mean Validation Accuracy\",mean/(i-1))\n"
   ]
  },
  {
   "cell_type": "code",
   "execution_count": 453,
   "metadata": {},
   "outputs": [
    {
     "name": "stdout",
     "output_type": "stream",
     "text": [
      "\n",
      "1 of kfold 5 \n",
      "accuracy_score 0.7817460317460317\n",
      "CV accuracy_score 0.7890841813135985\n",
      "\n",
      "2 of kfold 5 \n",
      "accuracy_score 0.7876984126984127\n",
      "CV accuracy_score 0.8048103607770583\n",
      "\n",
      "3 of kfold 5 \n",
      "accuracy_score 0.8253968253968254\n",
      "CV accuracy_score 0.7890841813135985\n",
      "\n",
      "4 of kfold 5 \n",
      "accuracy_score 0.7817460317460317\n",
      "CV accuracy_score 0.7890841813135985\n",
      "\n",
      "5 of kfold 5 \n",
      "accuracy_score 0.7936507936507936\n",
      "CV accuracy_score 0.788159111933395\n",
      "\n",
      " Mean Validation Accuracy 0.794047619047619\n"
     ]
    }
   ],
   "source": [
    "# Decission tree\n",
    "\n",
    "# let’s make a cross-validation logistic model with stratified 5 folds and make predictions for the test dataset.\n",
    "from sklearn import tree\n",
    "\n",
    "i=1\n",
    "mean = 0\n",
    "kf = StratifiedKFold(n_splits=5,random_state=1, shuffle=True)\n",
    "X= x_train.copy()\n",
    "y= y_train.copy()\n",
    "\n",
    "for train_index,test_index in kf.split(X,y):\n",
    "    print (\"\\n{} of kfold {} \".format(i,kf.n_splits))\n",
    "    xtr,xvl = X.iloc[train_index], X.iloc[test_index]\n",
    "    ytr,yvl = y.iloc[train_index], y.iloc[test_index]\n",
    "    \n",
    "    model = tree.DecisionTreeClassifier(random_state=1)\n",
    "    model.fit(xtr,ytr)\n",
    "    \n",
    "    pred_test=model.predict(xvl)\n",
    "    score=accuracy_score(yvl,pred_test)\n",
    "    mean += score\n",
    "    print (\"accuracy_score\",score)\n",
    "    i+=1\n",
    "    pred_cv = model.predict(x_cv)\n",
    "    print (\"CV accuracy_score\",accuracy_score(y_cv,pred_cv))\n",
    "    pred = model.predict_proba(xvl)[:,1]\n",
    "    \n",
    "print(\"\\n Mean Validation Accuracy\",mean/(i-1))\n"
   ]
  },
  {
   "cell_type": "code",
   "execution_count": 454,
   "metadata": {},
   "outputs": [
    {
     "name": "stdout",
     "output_type": "stream",
     "text": [
      "\n",
      "1 of kfold 5 \n",
      "accuracy_score 0.8492063492063492\n",
      "CV accuracy_score 0.849213691026827\n",
      "\n",
      "2 of kfold 5 \n",
      "accuracy_score 0.8511904761904762\n",
      "CV accuracy_score 0.849213691026827\n",
      "\n",
      "3 of kfold 5 \n",
      "accuracy_score 0.8492063492063492\n",
      "CV accuracy_score 0.84736355226642\n",
      "\n",
      "4 of kfold 5 \n",
      "accuracy_score 0.8472222222222222\n",
      "CV accuracy_score 0.8482886216466234\n",
      "\n",
      "5 of kfold 5 \n",
      "accuracy_score 0.8472222222222222\n",
      "CV accuracy_score 0.849213691026827\n",
      "\n",
      " Mean Validation Accuracy 0.8488095238095237\n"
     ]
    }
   ],
   "source": [
    "# Random Forest\n",
    "\n",
    "# let’s make a cross-validation logistic model with stratified 5 folds and make predictions for the test dataset.\n",
    "from sklearn.ensemble import RandomForestClassifier\n",
    "\n",
    "i=1\n",
    "mean = 0\n",
    "kf = StratifiedKFold(n_splits=5,random_state=1, shuffle=True)\n",
    "X= x_train.copy()\n",
    "y= y_train.copy()\n",
    "\n",
    "for train_index,test_index in kf.split(X,y):\n",
    "    print (\"\\n{} of kfold {} \".format(i,kf.n_splits))\n",
    "    xtr,xvl = X.iloc[train_index], X.iloc[test_index]\n",
    "    ytr,yvl = y.iloc[train_index], y.iloc[test_index]\n",
    "    \n",
    "    model = RandomForestClassifier(random_state=1, max_depth= 7)\n",
    "    model.fit(xtr,ytr)\n",
    "    \n",
    "    pred_test=model.predict(xvl)\n",
    "    score=accuracy_score(yvl,pred_test)\n",
    "    mean += score\n",
    "    print (\"accuracy_score\",score)\n",
    "    i+=1\n",
    "    pred_cv = model.predict(x_cv)\n",
    "    print (\"CV accuracy_score\",accuracy_score(y_cv,pred_cv))\n",
    "    pred = model.predict_proba(xvl)[:,1]\n",
    "    \n",
    "print(\"\\n Mean Validation Accuracy\",mean/(i-1))\n"
   ]
  },
  {
   "cell_type": "markdown",
   "metadata": {},
   "source": [
    "### Grid Search for hyper parameter tuning"
   ]
  },
  {
   "cell_type": "code",
   "execution_count": 456,
   "metadata": {},
   "outputs": [
    {
     "data": {
      "text/plain": [
       "RandomForestClassifier(max_depth=9, n_estimators=121, random_state=1)"
      ]
     },
     "execution_count": 456,
     "metadata": {},
     "output_type": "execute_result"
    }
   ],
   "source": [
    "from sklearn.model_selection import GridSearchCV\n",
    "\n",
    "paramgrid = {\"max_depth\": list(range(1,10,2)), \"n_estimators\": list(range(1,200,20))}\n",
    "grid_search=GridSearchCV(RandomForestClassifier(random_state=1),paramgrid)\n",
    "\n",
    "# from sklearn.model_selection import train_test_split\n",
    "\n",
    "# x_train, x_cv, y_train, y_cv = train_test_split(X,y, test_size=0.3, random_state=1)\n",
    "grid_search.fit(x_train,y_train)\n",
    "\n",
    "grid_search.best_estimator_\n",
    "#RandomForestClassifier(max_depth=5, n_estimators=41, random_state=1)"
   ]
  },
  {
   "cell_type": "code",
   "execution_count": 466,
   "metadata": {},
   "outputs": [
    {
     "name": "stdout",
     "output_type": "stream",
     "text": [
      "\n",
      "1 of kfold 5 \n",
      "accuracy_score 0.8492063492063492\n",
      "CV accuracy_score 0.8501387604070305\n",
      "\n",
      "2 of kfold 5 \n",
      "accuracy_score 0.8511904761904762\n",
      "CV accuracy_score 0.849213691026827\n",
      "\n",
      "3 of kfold 5 \n",
      "accuracy_score 0.8511904761904762\n",
      "CV accuracy_score 0.84736355226642\n",
      "\n",
      "4 of kfold 5 \n",
      "accuracy_score 0.8511904761904762\n",
      "CV accuracy_score 0.849213691026827\n",
      "\n",
      "5 of kfold 5 \n",
      "accuracy_score 0.8472222222222222\n",
      "CV accuracy_score 0.849213691026827\n",
      "\n",
      " Mean Validation Accuracy 0.85\n"
     ]
    }
   ],
   "source": [
    "i=1\n",
    "mean = 0\n",
    "kf = StratifiedKFold(n_splits=5,random_state=1, shuffle=True)\n",
    "X= x_train.copy()\n",
    "y= y_train.copy()\n",
    "\n",
    "for train_index,test_index in kf.split(X,y):\n",
    "    print (\"\\n{} of kfold {} \".format(i,kf.n_splits))\n",
    "    xtr,xvl = X.iloc[train_index], X.iloc[test_index]\n",
    "    ytr,yvl = y.iloc[train_index], y.iloc[test_index]\n",
    "    \n",
    "    model = RandomForestClassifier(random_state=1, max_depth= 9, n_estimators=121)\n",
    "    model.fit(xtr,ytr)\n",
    "    \n",
    "    pred_test=model.predict(xvl)\n",
    "    score=accuracy_score(yvl,pred_test)\n",
    "    mean += score\n",
    "    print (\"accuracy_score\",score)\n",
    "    i+=1\n",
    "    pred_cv = model.predict(x_cv)\n",
    "    print (\"CV accuracy_score\",accuracy_score(y_cv,pred_cv))\n",
    "    pred = model.predict_proba(xvl)[:,1]\n",
    "    \n",
    "print(\"\\n Mean Validation Accuracy\",mean/(i-1))"
   ]
  },
  {
   "cell_type": "code",
   "execution_count": 467,
   "metadata": {},
   "outputs": [
    {
     "data": {
      "image/png": "[encoded data removed]",
      "text/plain": [
       "<Figure size 864x576 with 1 Axes>"
      ]
     },
     "metadata": {},
     "output_type": "display_data"
    }
   ],
   "source": [
    "feat_importances=pd.Series(model.feature_importances_, index=X.columns)\n",
    "ax=feat_importances.sort_values(ascending=False).nlargest(10).plot(kind='barh', figsize=(12,8))\n",
    "ax.invert_yaxis()\n",
    "plt.show()\n"
   ]
  },
  {
   "cell_type": "markdown",
   "metadata": {},
   "source": [
    "We can see that Credit_History is the most important feature followed by Balance Income, Total Income, EMI. So, feature engineering helped us in predicting our target variable."
   ]
  },
  {
   "cell_type": "code",
   "execution_count": 468,
   "metadata": {},
   "outputs": [
    {
     "name": "stdout",
     "output_type": "stream",
     "text": [
      "\n",
      "1 of kfold 5 \n",
      "[13:25:57] WARNING: C:/Users/Administrator/workspace/xgboost-win64_release_1.3.0/src/learner.cc:1061: Starting in XGBoost 1.3.0, the default evaluation metric used with the objective 'binary:logistic' was changed from 'error' to 'logloss'. Explicitly set eval_metric if you'd like to restore the old behavior.\n",
      "accuracy_score 0.8472222222222222\n",
      "CV accuracy_score 0.8307123034227567\n",
      "\n",
      "2 of kfold 5 \n",
      "[13:25:57] WARNING: C:/Users/Administrator/workspace/xgboost-win64_release_1.3.0/src/learner.cc:1061: Starting in XGBoost 1.3.0, the default evaluation metric used with the objective 'binary:logistic' was changed from 'error' to 'logloss'. Explicitly set eval_metric if you'd like to restore the old behavior.\n",
      "accuracy_score 0.8551587301587301\n",
      "CV accuracy_score 0.8279370952821462\n",
      "\n",
      "3 of kfold 5 \n",
      "[13:25:59] WARNING: C:/Users/Administrator/workspace/xgboost-win64_release_1.3.0/src/learner.cc:1061: Starting in XGBoost 1.3.0, the default evaluation metric used with the objective 'binary:logistic' was changed from 'error' to 'logloss'. Explicitly set eval_metric if you'd like to restore the old behavior.\n",
      "accuracy_score 0.8452380952380952\n",
      "CV accuracy_score 0.8251618871415356\n",
      "\n",
      "4 of kfold 5 \n",
      "[13:25:59] WARNING: C:/Users/Administrator/workspace/xgboost-win64_release_1.3.0/src/learner.cc:1061: Starting in XGBoost 1.3.0, the default evaluation metric used with the objective 'binary:logistic' was changed from 'error' to 'logloss'. Explicitly set eval_metric if you'd like to restore the old behavior.\n",
      "accuracy_score 0.8452380952380952\n",
      "CV accuracy_score 0.8334875115633672\n",
      "\n",
      "5 of kfold 5 \n",
      "[13:26:00] WARNING: C:/Users/Administrator/workspace/xgboost-win64_release_1.3.0/src/learner.cc:1061: Starting in XGBoost 1.3.0, the default evaluation metric used with the objective 'binary:logistic' was changed from 'error' to 'logloss'. Explicitly set eval_metric if you'd like to restore the old behavior.\n",
      "accuracy_score 0.8333333333333334\n",
      "CV accuracy_score 0.8325624421831638\n",
      "\n",
      " Mean Validation Accuracy 0.8452380952380952\n"
     ]
    }
   ],
   "source": [
    "# XGBOOST\n",
    "from xgboost import XGBClassifier\n",
    "\n",
    "i=1\n",
    "mean = 0\n",
    "kf = StratifiedKFold(n_splits=5,random_state=1, shuffle=True)\n",
    "X= x_train.copy()\n",
    "y= y_train.copy()\n",
    "\n",
    "for train_index,test_index in kf.split(X,y):\n",
    "    print (\"\\n{} of kfold {} \".format(i,kf.n_splits))\n",
    "    xtr,xvl = X.iloc[train_index], X.iloc[test_index]\n",
    "    ytr,yvl = y.iloc[train_index], y.iloc[test_index]\n",
    "    \n",
    "    model = XGBClassifier(random_state=1, max_depth= 5, n_estimators=500)\n",
    "    model.fit(xtr,ytr)\n",
    "    \n",
    "    pred_test=model.predict(xvl)\n",
    "    score=accuracy_score(yvl,pred_test)\n",
    "    mean += score\n",
    "    print (\"accuracy_score\",score)\n",
    "    i+=1\n",
    "    pred_cv = model.predict(x_cv)\n",
    "    print (\"CV accuracy_score\",accuracy_score(y_cv,pred_cv))\n",
    "    pred = model.predict_proba(xvl)[:,1]\n",
    "    \n",
    "print(\"\\n Mean Validation Accuracy\",mean/(i-1))"
   ]
  },
  {
   "cell_type": "code",
   "execution_count": 469,
   "metadata": {},
   "outputs": [
    {
     "data": {
      "image/png": "[encoded data removed]",
      "text/plain": [
       "<Figure size 864x576 with 1 Axes>"
      ]
     },
     "metadata": {},
     "output_type": "display_data"
    }
   ],
   "source": [
    "feat_importances=pd.Series(model.feature_importances_, index=X.columns)\n",
    "ax=feat_importances.sort_values(ascending=False).nlargest(10).plot(kind='barh', figsize=(12,8))\n",
    "ax.invert_yaxis()\n",
    "plt.show()"
   ]
  },
  {
   "cell_type": "markdown",
   "metadata": {},
   "source": [
    "### Feature Engineering"
   ]
  },
  {
   "cell_type": "code",
   "execution_count": null,
   "metadata": {},
   "outputs": [],
   "source": [
    "Balance Income — This is the income left after the EMI has been paid. The idea behind creating this variable is that if this value is high, the chances are high that a person will repay the loan and hence increasing the chances of loan approval."
   ]
  },
  {
   "cell_type": "code",
   "execution_count": 354,
   "metadata": {},
   "outputs": [
    {
     "data": {
      "text/plain": [
       "0.849213691026827"
      ]
     },
     "execution_count": 354,
     "metadata": {},
     "output_type": "execute_result"
    }
   ],
   "source": [
    "# import library\n",
    "from sklearn.ensemble import RandomForestClassifier\n",
    "model_rf = RandomForestClassifier(random_state=1, max_depth=10, n_estimators=100)\n",
    "model_rf.fit(x_train, y_train)\n",
    "pred_cv = model_rf.predict(x_cv)\n",
    "# calculate accuracy score\n",
    "accuracy_score(y_cv, pred_cv)dd\n"
   ]
  },
  {
   "cell_type": "code",
   "execution_count": 60,
   "metadata": {},
   "outputs": [
    {
     "ename": "AttributeError",
     "evalue": "'Text' object has no property 'textsize'",
     "output_type": "error",
     "traceback": [
      "\u001b[1;31m---------------------------------------------------------------------------\u001b[0m",
      "\u001b[1;31mAttributeError\u001b[0m                            Traceback (most recent call last)",
      "\u001b[1;32m<ipython-input-60-9facb93df21b>\u001b[0m in \u001b[0;36m<module>\u001b[1;34m\u001b[0m\n\u001b[0;32m      7\u001b[0m \u001b[0mplt\u001b[0m\u001b[1;33m.\u001b[0m\u001b[0mbarh\u001b[0m\u001b[1;33m(\u001b[0m\u001b[0mrange\u001b[0m\u001b[1;33m(\u001b[0m\u001b[0mlen\u001b[0m\u001b[1;33m(\u001b[0m\u001b[0mindices\u001b[0m\u001b[1;33m)\u001b[0m\u001b[1;33m)\u001b[0m\u001b[1;33m,\u001b[0m \u001b[0mimportances\u001b[0m\u001b[1;33m[\u001b[0m\u001b[0mindices\u001b[0m\u001b[1;33m]\u001b[0m\u001b[1;33m,\u001b[0m \u001b[0mcolor\u001b[0m\u001b[1;33m=\u001b[0m\u001b[1;34m'b'\u001b[0m\u001b[1;33m,\u001b[0m \u001b[0malign\u001b[0m\u001b[1;33m=\u001b[0m\u001b[1;34m'center'\u001b[0m\u001b[1;33m)\u001b[0m\u001b[1;33m\u001b[0m\u001b[1;33m\u001b[0m\u001b[0m\n\u001b[0;32m      8\u001b[0m \u001b[0mplt\u001b[0m\u001b[1;33m.\u001b[0m\u001b[0myticks\u001b[0m\u001b[1;33m(\u001b[0m\u001b[0mrange\u001b[0m\u001b[1;33m(\u001b[0m\u001b[0mlen\u001b[0m\u001b[1;33m(\u001b[0m\u001b[0mindices\u001b[0m\u001b[1;33m)\u001b[0m\u001b[1;33m)\u001b[0m\u001b[1;33m,\u001b[0m \u001b[1;33m[\u001b[0m\u001b[0mnames\u001b[0m\u001b[1;33m[\u001b[0m\u001b[0mi\u001b[0m\u001b[1;33m]\u001b[0m \u001b[1;32mfor\u001b[0m \u001b[0mi\u001b[0m \u001b[1;32min\u001b[0m \u001b[0mindices\u001b[0m\u001b[1;33m]\u001b[0m\u001b[1;33m)\u001b[0m\u001b[1;33m\u001b[0m\u001b[1;33m\u001b[0m\u001b[0m\n\u001b[1;32m----> 9\u001b[1;33m \u001b[0mplt\u001b[0m\u001b[1;33m.\u001b[0m\u001b[0myticks\u001b[0m\u001b[1;33m(\u001b[0m\u001b[0mtextsize\u001b[0m\u001b[1;33m=\u001b[0m\u001b[1;36m8\u001b[0m\u001b[1;33m)\u001b[0m\u001b[1;33m\u001b[0m\u001b[1;33m\u001b[0m\u001b[0m\n\u001b[0m\u001b[0;32m     10\u001b[0m \u001b[0mplt\u001b[0m\u001b[1;33m.\u001b[0m\u001b[0mxlabel\u001b[0m\u001b[1;33m(\u001b[0m\u001b[1;34m'Relative Importance'\u001b[0m\u001b[1;33m)\u001b[0m\u001b[1;33m\u001b[0m\u001b[1;33m\u001b[0m\u001b[0m\n\u001b[0;32m     11\u001b[0m \u001b[0mplt\u001b[0m\u001b[1;33m.\u001b[0m\u001b[0mshow\u001b[0m\u001b[1;33m(\u001b[0m\u001b[1;33m)\u001b[0m\u001b[1;33m\u001b[0m\u001b[1;33m\u001b[0m\u001b[0m\n",
      "\u001b[1;32mc:\\users\\masud.pervez\\appdata\\local\\pypoetry\\cache\\virtualenvs\\seb-project--doykjuf-py3.9\\lib\\site-packages\\matplotlib\\pyplot.py\u001b[0m in \u001b[0;36myticks\u001b[1;34m(ticks, labels, **kwargs)\u001b[0m\n\u001b[0;32m   1843\u001b[0m         \u001b[0mlabels\u001b[0m \u001b[1;33m=\u001b[0m \u001b[0max\u001b[0m\u001b[1;33m.\u001b[0m\u001b[0mset_yticklabels\u001b[0m\u001b[1;33m(\u001b[0m\u001b[0mlabels\u001b[0m\u001b[1;33m,\u001b[0m \u001b[1;33m**\u001b[0m\u001b[0mkwargs\u001b[0m\u001b[1;33m)\u001b[0m\u001b[1;33m\u001b[0m\u001b[1;33m\u001b[0m\u001b[0m\n\u001b[0;32m   1844\u001b[0m     \u001b[1;32mfor\u001b[0m \u001b[0ml\u001b[0m \u001b[1;32min\u001b[0m \u001b[0mlabels\u001b[0m\u001b[1;33m:\u001b[0m\u001b[1;33m\u001b[0m\u001b[1;33m\u001b[0m\u001b[0m\n\u001b[1;32m-> 1845\u001b[1;33m         \u001b[0ml\u001b[0m\u001b[1;33m.\u001b[0m\u001b[0mupdate\u001b[0m\u001b[1;33m(\u001b[0m\u001b[0mkwargs\u001b[0m\u001b[1;33m)\u001b[0m\u001b[1;33m\u001b[0m\u001b[1;33m\u001b[0m\u001b[0m\n\u001b[0m\u001b[0;32m   1846\u001b[0m \u001b[1;33m\u001b[0m\u001b[0m\n\u001b[0;32m   1847\u001b[0m     \u001b[1;32mreturn\u001b[0m \u001b[0mlocs\u001b[0m\u001b[1;33m,\u001b[0m \u001b[0mlabels\u001b[0m\u001b[1;33m\u001b[0m\u001b[1;33m\u001b[0m\u001b[0m\n",
      "\u001b[1;32mc:\\users\\masud.pervez\\appdata\\local\\pypoetry\\cache\\virtualenvs\\seb-project--doykjuf-py3.9\\lib\\site-packages\\matplotlib\\text.py\u001b[0m in \u001b[0;36mupdate\u001b[1;34m(self, kwargs)\u001b[0m\n\u001b[0;32m    182\u001b[0m         \u001b[1;31m# Update bbox last, as it depends on font properties.\u001b[0m\u001b[1;33m\u001b[0m\u001b[1;33m\u001b[0m\u001b[1;33m\u001b[0m\u001b[0m\n\u001b[0;32m    183\u001b[0m         \u001b[0mbbox\u001b[0m \u001b[1;33m=\u001b[0m \u001b[0mkwargs\u001b[0m\u001b[1;33m.\u001b[0m\u001b[0mpop\u001b[0m\u001b[1;33m(\u001b[0m\u001b[1;34m\"bbox\"\u001b[0m\u001b[1;33m,\u001b[0m \u001b[0msentinel\u001b[0m\u001b[1;33m)\u001b[0m\u001b[1;33m\u001b[0m\u001b[1;33m\u001b[0m\u001b[0m\n\u001b[1;32m--> 184\u001b[1;33m         \u001b[0msuper\u001b[0m\u001b[1;33m(\u001b[0m\u001b[1;33m)\u001b[0m\u001b[1;33m.\u001b[0m\u001b[0mupdate\u001b[0m\u001b[1;33m(\u001b[0m\u001b[0mkwargs\u001b[0m\u001b[1;33m)\u001b[0m\u001b[1;33m\u001b[0m\u001b[1;33m\u001b[0m\u001b[0m\n\u001b[0m\u001b[0;32m    185\u001b[0m         \u001b[1;32mif\u001b[0m \u001b[0mbbox\u001b[0m \u001b[1;32mis\u001b[0m \u001b[1;32mnot\u001b[0m \u001b[0msentinel\u001b[0m\u001b[1;33m:\u001b[0m\u001b[1;33m\u001b[0m\u001b[1;33m\u001b[0m\u001b[0m\n\u001b[0;32m    186\u001b[0m             \u001b[0mself\u001b[0m\u001b[1;33m.\u001b[0m\u001b[0mset_bbox\u001b[0m\u001b[1;33m(\u001b[0m\u001b[0mbbox\u001b[0m\u001b[1;33m)\u001b[0m\u001b[1;33m\u001b[0m\u001b[1;33m\u001b[0m\u001b[0m\n",
      "\u001b[1;32mc:\\users\\masud.pervez\\appdata\\local\\pypoetry\\cache\\virtualenvs\\seb-project--doykjuf-py3.9\\lib\\site-packages\\matplotlib\\artist.py\u001b[0m in \u001b[0;36mupdate\u001b[1;34m(self, props)\u001b[0m\n\u001b[0;32m   1060\u001b[0m                     \u001b[0mfunc\u001b[0m \u001b[1;33m=\u001b[0m \u001b[0mgetattr\u001b[0m\u001b[1;33m(\u001b[0m\u001b[0mself\u001b[0m\u001b[1;33m,\u001b[0m \u001b[1;34mf\"set_{k}\"\u001b[0m\u001b[1;33m,\u001b[0m \u001b[1;32mNone\u001b[0m\u001b[1;33m)\u001b[0m\u001b[1;33m\u001b[0m\u001b[1;33m\u001b[0m\u001b[0m\n\u001b[0;32m   1061\u001b[0m                     \u001b[1;32mif\u001b[0m \u001b[1;32mnot\u001b[0m \u001b[0mcallable\u001b[0m\u001b[1;33m(\u001b[0m\u001b[0mfunc\u001b[0m\u001b[1;33m)\u001b[0m\u001b[1;33m:\u001b[0m\u001b[1;33m\u001b[0m\u001b[1;33m\u001b[0m\u001b[0m\n\u001b[1;32m-> 1062\u001b[1;33m                         raise AttributeError(f\"{type(self).__name__!r} object \"\n\u001b[0m\u001b[0;32m   1063\u001b[0m                                              f\"has no property {k!r}\")\n\u001b[0;32m   1064\u001b[0m                     \u001b[0mret\u001b[0m\u001b[1;33m.\u001b[0m\u001b[0mappend\u001b[0m\u001b[1;33m(\u001b[0m\u001b[0mfunc\u001b[0m\u001b[1;33m(\u001b[0m\u001b[0mv\u001b[0m\u001b[1;33m)\u001b[0m\u001b[1;33m)\u001b[0m\u001b[1;33m\u001b[0m\u001b[1;33m\u001b[0m\u001b[0m\n",
      "\u001b[1;31mAttributeError\u001b[0m: 'Text' object has no property 'textsize'"
     ]
    },
    {
     "data": {
      "image/png": "[encoded data removed]",
      "text/plain": [
       "<Figure size 432x288 with 1 Axes>"
      ]
     },
     "metadata": {
      "needs_background": "light"
     },
     "output_type": "display_data"
    }
   ],
   "source": [
    "# plotting the feature importance\n",
    "names = x_train.columns.tolist()\n",
    "importances = model_rf.feature_importances_\n",
    "indices = np.argsort(importances)\n",
    "\n",
    "plt.title('Feature Importances')\n",
    "plt.barh(range(len(indices)), importances[indices], color='b', align='center')\n",
    "plt.yticks(range(len(indices)), [names[i] for i in indices])\n",
    "plt.yticks(textsize=8)\n",
    "plt.xlabel('Relative Importance')\n",
    "plt.show()"
   ]
  },
  {
   "cell_type": "code",
   "execution_count": 357,
   "metadata": {},
   "outputs": [
    {
     "name": "stdout",
     "output_type": "stream",
     "text": [
      "[10:54:25] WARNING: C:/Users/Administrator/workspace/xgboost-win64_release_1.3.0/src/learner.cc:1061: Starting in XGBoost 1.3.0, the default evaluation metric used with the objective 'binary:logistic' was changed from 'error' to 'logloss'. Explicitly set eval_metric if you'd like to restore the old behavior.\n"
     ]
    },
    {
     "data": {
      "text/plain": [
       "0.8371877890841813"
      ]
     },
     "execution_count": 357,
     "metadata": {},
     "output_type": "execute_result"
    }
   ],
   "source": [
    "# import library\n",
    "import xgboost as xgb\n",
    "\n",
    "model_xgb = xgb.XGBClassifier(\n",
    "    gamma=1,                 \n",
    "    learning_rate=0.01,\n",
    "    max_depth=3,\n",
    "    n_estimators=10000,                                                                    \n",
    "    subsample=0.8,\n",
    "    random_state=34\n",
    ") \n",
    "\n",
    "model_xgb.fit(x_train, y_train)\n",
    "pred = model_xgb.predict(x_cv)\n",
    "\n",
    "# calculate accuracy score\n",
    "accuracy_score(y_cv, pred)\n"
   ]
  },
  {
   "cell_type": "code",
   "execution_count": null,
   "metadata": {},
   "outputs": [],
   "source": [
    "import xgboost as xgb\n",
    "from xgboost.sklearn import XGBClassifier\n",
    "from sklearn import cross_validation, metrics   #Additional scklearn functions\n",
    "from sklearn.grid_search import GridSearchCV   #Perforing grid search\n"
   ]
  },
  {
   "cell_type": "markdown",
   "metadata": {},
   "source": [
    "Define a function which will help us create XGBoost models and perform cross-validation. "
   ]
  },
  {
   "cell_type": "code",
   "execution_count": 414,
   "metadata": {},
   "outputs": [],
   "source": [
    "def modelfit(alg, dtrain, predictors, target,useTrainCV=True, cv_folds=5, early_stopping_rounds=50):\n",
    "    \n",
    "    if useTrainCV:\n",
    "        xgb_param = alg.get_xgb_params()\n",
    "        xgtrain = xgb.DMatrix(dtrain[predictors].values, label=dtrain[target].values)\n",
    "        cvresult = xgb.cv(xgb_param, xgtrain, num_boost_round=alg.get_params()['n_estimators'], nfold=cv_folds,\n",
    "            metrics='auc', early_stopping_rounds=early_stopping_rounds, show_progress=False)\n",
    "        alg.set_params(n_estimators=cvresult.shape[0])\n",
    "    \n",
    "    #Fit the algorithm on the data\n",
    "    alg.fit(dtrain[predictors], dtrain[target],eval_metric='auc')\n",
    "        \n",
    "    #Predict training set:\n",
    "    dtrain_predictions = alg.predict(dtrain[predictors])\n",
    "    dtrain_predprob = alg.predict_proba(dtrain[predictors])[:,1]\n",
    "        \n",
    "    #Print model report:\n",
    "    print(\"\\nModel Report\")\n",
    "    print(\"Accuracy : %.4g\" % metrics.accuracy_score(dtrain[target].values, dtrain_predictions))\n",
    "    print(\"AUC Score (Train): %f\" % metrics.roc_auc_score(dtrain[target], dtrain_predprob))\n",
    "                    \n",
    "    feat_imp = pd.Series(alg.get_booster().get_fscore()).sort_values(ascending=False)\n",
    "    feat_imp.plot(kind='bar', title='Feature Importances')\n",
    "    plt.ylabel('Feature Importance Score')"
   ]
  },
  {
   "cell_type": "code",
   "execution_count": 363,
   "metadata": {},
   "outputs": [],
   "source": [
    "## xgboost’s sklearn wrapper doesn’t have a “feature_importances” metric but a get_fscore() function which does the same job"
   ]
  },
  {
   "cell_type": "code",
   "execution_count": 376,
   "metadata": {},
   "outputs": [],
   "source": [
    "target= 'LOAN'\n",
    "IDcols = ['CLIENT_ID', 'ACCOUNT_ID', 'DISTRICT_ID']\n",
    "deleted_cols= ['BIRTH_DT','SET_SPLIT', 'max_date', 'min_date']\n",
    "\n",
    "predictors = [x for x in train.columns if x not in target and  x not in IDcols and  x not in deleted_cols]\n"
   ]
  },
  {
   "cell_type": "code",
   "execution_count": 419,
   "metadata": {
    "scrolled": true
   },
   "outputs": [
    {
     "ename": "SyntaxError",
     "evalue": "positional argument follows keyword argument (<ipython-input-419-847e9f929bd8>, line 14)",
     "output_type": "error",
     "traceback": [
      "\u001b[1;36m  File \u001b[1;32m\"<ipython-input-419-847e9f929bd8>\"\u001b[1;36m, line \u001b[1;32m14\u001b[0m\n\u001b[1;33m    modelfit(xgb1, dtrain= [x_train, y_train], predictors, target)\u001b[0m\n\u001b[1;37m                                                                 ^\u001b[0m\n\u001b[1;31mSyntaxError\u001b[0m\u001b[1;31m:\u001b[0m positional argument follows keyword argument\n"
     ]
    }
   ],
   "source": [
    "xgb1 = xgb.XGBClassifier(\n",
    " learning_rate =0.05,\n",
    " n_estimators=1000,\n",
    " max_depth=5,\n",
    " min_child_weight=1,\n",
    " gamma=0,\n",
    " subsample=0.8,\n",
    " colsample_bytree=0.8,\n",
    " objective= 'binary:logistic',\n",
    " nthread=4,\n",
    " scale_pos_weight=1,\n",
    " seed=27)\n",
    "\n",
    "modelfit(xgb1, dtrain= [x_train, y_train], predictors, target)"
   ]
  },
  {
   "cell_type": "code",
   "execution_count": 396,
   "metadata": {},
   "outputs": [
    {
     "name": "stdout",
     "output_type": "stream",
     "text": [
      "[12:17:03] WARNING: C:/Users/Administrator/workspace/xgboost-win64_release_1.3.0/src/learner.cc:1061: Starting in XGBoost 1.3.0, the default evaluation metric used with the objective 'binary:logistic' was changed from 'error' to 'logloss'. Explicitly set eval_metric if you'd like to restore the old behavior.\n"
     ]
    },
    {
     "data": {
      "text/plain": [
       "XGBClassifier(base_score=0.5, booster='gbtree', colsample_bylevel=1,\n",
       "              colsample_bynode=1, colsample_bytree=0.8, gamma=0, gpu_id=-1,\n",
       "              importance_type='gain', interaction_constraints='',\n",
       "              learning_rate=0.1, max_delta_step=0, max_depth=5,\n",
       "              min_child_weight=1, missing=nan, monotone_constraints='()',\n",
       "              n_estimators=1000, n_jobs=4, nthread=4, num_parallel_tree=1,\n",
       "              random_state=27, reg_alpha=0, reg_lambda=1, scale_pos_weight=1,\n",
       "              seed=27, subsample=0.8, tree_method='exact',\n",
       "              validate_parameters=1, verbosity=None)"
      ]
     },
     "execution_count": 396,
     "metadata": {},
     "output_type": "execute_result"
    }
   ],
   "source": [
    "#Choose all predictors except target & IDcols\n",
    "#predictors = [x for x in train.columns if x not in [target, IDcol]]\n",
    "xgb1 = xgb.XGBClassifier(\n",
    " learning_rate =0.1,\n",
    " n_estimators=1000,\n",
    " max_depth=5,\n",
    " min_child_weight=1,\n",
    " gamma=0,\n",
    " subsample=0.8,\n",
    " colsample_bytree=0.8,\n",
    " objective= 'binary:logistic',\n",
    " nthread=4,\n",
    " scale_pos_weight=1,\n",
    " seed=27)\n",
    "xgb1.fit(x_train, y_train)\n",
    "#modelfit(xgb1, train, predictors)\n",
    "# split the data into train and cross validation set\n",
    "# x_train, x_cv, y_train, y_cv = train_test_split(X, y, test_size=0.3, random_state=123,stratify= y)\n",
    "\n",
    "# # take a look at the dimension of the data\n",
    "# x_train.shape, x_cv.shape, y_train.shape, y_cv.shape"
   ]
  },
  {
   "cell_type": "code",
   "execution_count": 423,
   "metadata": {},
   "outputs": [
    {
     "data": {
      "text/plain": [
       "{'Age': 0.10002266802674827,\n",
       " 'type_most_CREDIT': 0.0017567720729910461,\n",
       " 'num_days': 0.13748158222826704,\n",
       " 'AVG_SALARY': 0.046072764365861954,\n",
       " 'CRIME_95': 0.027825002833503344,\n",
       " 'CRIME_96': 0.023688087951943784,\n",
       " 'unique_dates': 0.1286410517964411,\n",
       " 'URBAN_RATIO': 0.037288904000906724,\n",
       " 'UNEMP_95': 0.03445540065737278,\n",
       " 'last_balance': 0.13884166383316332,\n",
       " 'trans_amount': 0.14977898673920434,\n",
       " 'operation_most_WITHDRAWAL_IN_CASH': 0.006290377422645359,\n",
       " 'UNEMP_96': 0.03190524764819223,\n",
       " 'N_INHAB': 0.045392723563413805,\n",
       " 'operation_most_REMITTANCE_TO_OTHER_BANK': 0.006007027088291964,\n",
       " 'GENDER': 0.019777853337866937,\n",
       " 'N_ENTR': 0.04097245834750085,\n",
       " 'N_CITIES': 0.023461407684461068,\n",
       " 'type_most_WITHDRAWAL': 0.00034002040122407346}"
      ]
     },
     "execution_count": 423,
     "metadata": {},
     "output_type": "execute_result"
    }
   ],
   "source": [
    "d= xgb1.get_booster().get_fscore()\n",
    "total = sum(d.values())\n",
    "d1 = { k: d[k]/total for k in d }\n",
    "d1"
   ]
  },
  {
   "cell_type": "code",
   "execution_count": null,
   "metadata": {},
   "outputs": [],
   "source": [
    "param_test1 = {\n",
    " 'max_depth':range(3,10,2),\n",
    " 'min_child_weight':range(1,6,2)\n",
    "}\n",
    "gsearch1 = GridSearchCV(estimator = XGBClassifier( learning_rate =0.1, n_estimators=140, max_depth=5,\n",
    " min_child_weight=1, gamma=0, subsample=0.8, colsample_bytree=0.8,\n",
    " objective= 'binary:logistic', nthread=4, scale_pos_weight=1, seed=27), \n",
    " param_grid = param_test1, scoring='roc_auc',n_jobs=4,iid=False, cv=5)\n",
    "gsearch1.fit(train[predictors],train[target])\n",
    "gsearch1.grid_scores_, gsearch1.best_params_, gsearch1.best_score_"
   ]
  },
  {
   "cell_type": "code",
   "execution_count": 422,
   "metadata": {},
   "outputs": [
    {
     "name": "stdout",
     "output_type": "stream",
     "text": [
      "[12:37:27] WARNING: C:/Users/Administrator/workspace/xgboost-win64_release_1.3.0/src/learner.cc:1061: Starting in XGBoost 1.3.0, the default evaluation metric used with the objective 'binary:logistic' was changed from 'error' to 'logloss'. Explicitly set eval_metric if you'd like to restore the old behavior.\n"
     ]
    },
    {
     "data": {
      "text/plain": [
       "XGBClassifier(base_score=0.5, booster='gbtree', colsample_bylevel=1,\n",
       "              colsample_bynode=1, colsample_bytree=0.8, gamma=0, gpu_id=-1,\n",
       "              importance_type='gain', interaction_constraints='',\n",
       "              learning_rate=0.05, max_delta_step=0, max_depth=5,\n",
       "              min_child_weight=1, missing=nan, monotone_constraints='()',\n",
       "              n_estimators=1000, n_jobs=4, nthread=4, num_parallel_tree=1,\n",
       "              random_state=27, reg_alpha=0, reg_lambda=1, scale_pos_weight=1,\n",
       "              seed=27, subsample=0.8, tree_method='exact',\n",
       "              validate_parameters=1, verbosity=None)"
      ]
     },
     "execution_count": 422,
     "metadata": {},
     "output_type": "execute_result"
    }
   ],
   "source": [
    "xgb1.fit(x_train, y_train)"
   ]
  },
  {
   "cell_type": "code",
   "execution_count": null,
   "metadata": {},
   "outputs": [],
   "source": [
    "param_test2 = {\n",
    " 'max_depth':[4,5,6],\n",
    " 'min_child_weight':[4,5,6]\n",
    "}\n",
    "gsearch2 = GridSearchCV(estimator = XGBClassifier( learning_rate=0.1, n_estimators=140, max_depth=5,\n",
    " min_child_weight=2, gamma=0, subsample=0.8, colsample_bytree=0.8,\n",
    " objective= 'binary:logistic', nthread=4, scale_pos_weight=1,seed=27), \n",
    " param_grid = param_test2, scoring='roc_auc',n_jobs=4,iid=False, cv=5)\n",
    "gsearch2.fit(train[predictors],train[target])\n",
    "gsearch2.grid_scores_, gsearch2.best_params_, gsearch2.best_score_"
   ]
  },
  {
   "cell_type": "code",
   "execution_count": null,
   "metadata": {},
   "outputs": [],
   "source": [
    "param_test2b = {\n",
    " 'min_child_weight':[6,8,10,12]\n",
    "}\n",
    "gsearch2b = GridSearchCV(estimator = XGBClassifier( learning_rate=0.1, n_estimators=140, max_depth=4,\n",
    " min_child_weight=2, gamma=0, subsample=0.8, colsample_bytree=0.8,\n",
    " objective= 'binary:logistic', nthread=4, scale_pos_weight=1,seed=27), \n",
    " param_grid = param_test2b, scoring='roc_auc',n_jobs=4,iid=False, cv=5)\n",
    "gsearch2b.fit(train[predictors],train[target])"
   ]
  },
  {
   "cell_type": "code",
   "execution_count": null,
   "metadata": {},
   "outputs": [],
   "source": [
    "modelfit(gsearch3.best_estimator_, train, predictors)\n",
    "gsearch2b.grid_scores_, gsearch2b.best_params_, gsearch2b.best_score_k"
   ]
  },
  {
   "cell_type": "code",
   "execution_count": 53,
   "metadata": {},
   "outputs": [
    {
     "name": "stdout",
     "output_type": "stream",
     "text": [
      "Feature: 0, Score: 0.01450\n",
      "Feature: 1, Score: 0.01622\n",
      "Feature: 2, Score: 0.00000\n",
      "Feature: 3, Score: 0.01445\n",
      "Feature: 4, Score: 0.01351\n",
      "Feature: 5, Score: 0.01422\n",
      "Feature: 6, Score: 0.01376\n",
      "Feature: 7, Score: 0.01393\n",
      "Feature: 8, Score: 0.01388\n",
      "Feature: 9, Score: 0.01475\n",
      "Feature: 10, Score: 0.01392\n",
      "Feature: 11, Score: 0.01362\n",
      "Feature: 12, Score: 0.00000\n",
      "Feature: 13, Score: 0.01073\n",
      "Feature: 14, Score: 0.01195\n",
      "Feature: 15, Score: 0.01170\n",
      "Feature: 16, Score: 0.01021\n",
      "Feature: 17, Score: 0.01337\n",
      "Feature: 18, Score: 0.01249\n",
      "Feature: 19, Score: 0.01072\n",
      "Feature: 20, Score: 0.01118\n",
      "Feature: 21, Score: 0.01106\n",
      "Feature: 22, Score: 0.01434\n",
      "Feature: 23, Score: 0.01152\n",
      "Feature: 24, Score: 0.01270\n",
      "Feature: 25, Score: 0.01219\n",
      "Feature: 26, Score: 0.01484\n",
      "Feature: 27, Score: 0.00912\n",
      "Feature: 28, Score: 0.01073\n",
      "Feature: 29, Score: 0.01408\n",
      "Feature: 30, Score: 0.01118\n",
      "Feature: 31, Score: 0.01240\n",
      "Feature: 32, Score: 0.00892\n",
      "Feature: 33, Score: 0.00000\n",
      "Feature: 34, Score: 0.01138\n",
      "Feature: 35, Score: 0.01466\n",
      "Feature: 36, Score: 0.01853\n",
      "Feature: 37, Score: 0.01364\n",
      "Feature: 38, Score: 0.00000\n",
      "Feature: 39, Score: 0.01850\n",
      "Feature: 40, Score: 0.01283\n",
      "Feature: 41, Score: 0.01124\n",
      "Feature: 42, Score: 0.01155\n",
      "Feature: 43, Score: 0.01040\n",
      "Feature: 44, Score: 0.00000\n",
      "Feature: 45, Score: 0.01080\n",
      "Feature: 46, Score: 0.01178\n",
      "Feature: 47, Score: 0.01000\n",
      "Feature: 48, Score: 0.01167\n",
      "Feature: 49, Score: 0.01112\n",
      "Feature: 50, Score: 0.01216\n",
      "Feature: 51, Score: 0.01287\n",
      "Feature: 52, Score: 0.01161\n",
      "Feature: 53, Score: 0.01317\n",
      "Feature: 54, Score: 0.01355\n",
      "Feature: 55, Score: 0.01024\n",
      "Feature: 56, Score: 0.01173\n",
      "Feature: 57, Score: 0.02020\n",
      "Feature: 58, Score: 0.00824\n",
      "Feature: 59, Score: 0.01463\n",
      "Feature: 60, Score: 0.01128\n",
      "Feature: 61, Score: 0.01529\n",
      "Feature: 62, Score: 0.00000\n",
      "Feature: 63, Score: 0.01170\n",
      "Feature: 64, Score: 0.01241\n",
      "Feature: 65, Score: 0.01076\n",
      "Feature: 66, Score: 0.01070\n",
      "Feature: 67, Score: 0.01175\n",
      "Feature: 68, Score: 0.01403\n",
      "Feature: 69, Score: 0.01127\n",
      "Feature: 70, Score: 0.01094\n",
      "Feature: 71, Score: 0.01121\n",
      "Feature: 72, Score: 0.01133\n",
      "Feature: 73, Score: 0.01099\n",
      "Feature: 74, Score: 0.01142\n",
      "Feature: 75, Score: 0.00000\n",
      "Feature: 76, Score: 0.01160\n",
      "Feature: 77, Score: 0.00000\n",
      "Feature: 78, Score: 0.00923\n",
      "Feature: 79, Score: 0.00000\n",
      "Feature: 80, Score: 0.01128\n",
      "Feature: 81, Score: 0.01875\n",
      "Feature: 82, Score: 0.01227\n",
      "Feature: 83, Score: 0.01119\n",
      "Feature: 84, Score: 0.01010\n",
      "Feature: 85, Score: 0.01196\n",
      "Feature: 86, Score: 0.01166\n",
      "Feature: 87, Score: 0.01043\n",
      "Feature: 88, Score: 0.01775\n"
     ]
    },
    {
     "data": {
      "image/png": "[encoded data removed]",
      "text/plain": [
       "<Figure size 432x288 with 1 Axes>"
      ]
     },
     "metadata": {
      "needs_background": "light"
     },
     "output_type": "display_data"
    }
   ],
   "source": [
    "# get importance\n",
    "importance = model_xgb.feature_importances_\n",
    "# summarize feature importance\n",
    "for i,v in enumerate(importance):\n",
    "    print('Feature: %0d, Score: %.5f' % (i,v))\n",
    "# plot feature importance\n",
    "plt.bar([x for x in range(len(importance))], importance)\n",
    "plt.show()"
   ]
  },
  {
   "cell_type": "markdown",
   "metadata": {},
   "source": [
    "## (C) A/B testing (optional bonus question)\n",
    "\n",
    "Problem: Finding the optimal channel between email and mobile app to provide loan offer."
   ]
  },
  {
   "cell_type": "markdown",
   "metadata": {},
   "source": [
    "How would you select which customers are in the email group or in the mobile app group in the test?\n",
    "\n",
    "Assume all customers have email address and mobile app. Customers we select for each group are chosen randomly inorder to prevent any selection bias."
   ]
  },
  {
   "cell_type": "markdown",
   "metadata": {},
   "source": [
    "Suppose a historic loan campaign conversion rate is 10%, then We might want to increase that to 15% as an example."
   ]
  },
  {
   "cell_type": "markdown",
   "metadata": {},
   "source": [
    "Here is the hypothesis to test during the test:\n",
    "\n",
    "$H_{0}:$ The loan conversion rate is the same for the groups email and mobile app. \n",
    "\n",
    "$H_{1}:$ The loan conversion rate is different among the groups email and mobile app."
   ]
  },
  {
   "cell_type": "code",
   "execution_count": 8,
   "metadata": {},
   "outputs": [],
   "source": [
    "import statsmodels.stats.proportion as proportion"
   ]
  },
  {
   "cell_type": "code",
   "execution_count": 9,
   "metadata": {},
   "outputs": [
    {
     "name": "stdout",
     "output_type": "stream",
     "text": [
      "chisq =1.846, pvalue = 0.174\n",
      "Contingency Table:\n",
      "(array([[ 486, 4514],\n",
      "       [ 527, 4473]]), array([[ 506.5, 4493.5],\n",
      "       [ 506.5, 4493.5]]))\n"
     ]
    }
   ],
   "source": [
    "import statsmodels.stats.proportion as proportion\n",
    "import numpy as np\n",
    "converted = np.array([486, 527])\n",
    "clicks = np.array([5000, 5000])\n",
    "chisq, pvalue, table = proportion.proportions_chisquare(converted, clicks)\n",
    "print('chisq =%.3f, pvalue = %.3f'%(chisq, pvalue))\n",
    "print(\"Contingency Table:\")\n",
    "print(table)"
   ]
  },
  {
   "cell_type": "code",
   "execution_count": 13,
   "metadata": {},
   "outputs": [
    {
     "name": "stdout",
     "output_type": "stream",
     "text": [
      "0.174\n"
     ]
    }
   ],
   "source": [
    "import numpy as np\n",
    "from statsmodels.stats.proportion import proportions_ztest\n",
    "count = np.array([486, 527])\n",
    "nobs = np.array([5000, 5000])\n",
    "stat, pval = proportions_ztest(count, nobs)\n",
    "print('{0:0.3f}'.format(pval))"
   ]
  },
  {
   "cell_type": "markdown",
   "metadata": {},
   "source": [
    "Method I: use proportions test\n",
    "Proportion test can be used since the chi-square distribution is the square of a normal distribution\n",
    "In this case (a two-sampled case with two sided alternative), the Chi-Square test below produced the same value as proportion Z test."
   ]
  },
  {
   "cell_type": "code",
   "execution_count": null,
   "metadata": {},
   "outputs": [],
   "source": [
    "use proportions test"
   ]
  },
  {
   "cell_type": "code",
   "execution_count": null,
   "metadata": {},
   "outputs": [],
   "source": [
    "from statsmodels.stats.proportion import proportions_ztest\n",
    "\n",
    "\n",
    "def compare_two_groups(array_1, array_2, alpha):\n",
    "    metric= np.array([tmp_df.groupby('group')['Sold_Out'].sum()[0], tmp_df.groupby('group')['Sold_Out'].sum()[1]]) # sold out for each group\n",
    "    n_samples= np.array([tmp_df.groupby('group')['FSST_nr'].count()[0], tmp_df.groupby('group')['FSST_nr'].count()[1]]) # samples for each group\n",
    "\n",
    "    \n",
    "    zscore, p_value =proportions_ztest(metric, n_samples, alternative='two-sided')\n",
    "    print('Statistics= %.3f , pvalue= %.3f' % (zscore, p_value))\n",
    "    if p_value > alpha:\n",
    "        print(\"Same distributions (fail to reject H0)\")\n",
    "    else: \n",
    "        print(\"Different distributions (reject H0)\")"
   ]
  },
  {
   "cell_type": "code",
   "execution_count": null,
   "metadata": {},
   "outputs": [],
   "source": [
    "group1 = test_data.loc[test_data.group == 'test']['Sålt']\n",
    "group2 = test_data.loc[test_data.group == 'kontrollgrupp']['Sålt']\n",
    "\n",
    "compare_two_groups(group1, group2, alpha=0.05)"
   ]
  },
  {
   "cell_type": "code",
   "execution_count": 1,
   "metadata": {},
   "outputs": [
    {
     "ename": "NameError",
     "evalue": "name 'p' is not defined",
     "output_type": "error",
     "traceback": [
      "\u001b[1;31m---------------------------------------------------------------------------\u001b[0m",
      "\u001b[1;31mNameError\u001b[0m                                 Traceback (most recent call last)",
      "\u001b[1;32m<ipython-input-1-77c18d1a2a62>\u001b[0m in \u001b[0;36m<module>\u001b[1;34m\u001b[0m\n\u001b[0;32m      2\u001b[0m \u001b[0my\u001b[0m\u001b[1;33m=\u001b[0m\u001b[1;36m30\u001b[0m\u001b[1;33m\u001b[0m\u001b[1;33m\u001b[0m\u001b[0m\n\u001b[0;32m      3\u001b[0m \u001b[1;33m\u001b[0m\u001b[0m\n\u001b[1;32m----> 4\u001b[1;33m \u001b[0mp\u001b[0m\u001b[1;33m\u001b[0m\u001b[1;33m\u001b[0m\u001b[0m\n\u001b[0m",
      "\u001b[1;31mNameError\u001b[0m: name 'p' is not defined"
     ]
    }
   ],
   "source": [
    "x= 50\n",
    "y=30\n",
    "\n",
    "p"
   ]
  },
  {
   "cell_type": "markdown",
   "metadata": {},
   "source": [
    "Sample size via point estimate, Z test with Test Case\n",
    "Use case: Calculate sample size based on conversion rate (CVR)\n",
    "Given: Baseline Conversion Rate=10%, 10% lift on CVR with significant level=95% and power=80%"
   ]
  },
  {
   "cell_type": "code",
   "execution_count": 14,
   "metadata": {},
   "outputs": [
    {
     "name": "stdout",
     "output_type": "stream",
     "text": [
      "Required sample size ~ 14744.1 per group\n"
     ]
    }
   ],
   "source": [
    "import statsmodels.stats.api as sms\n",
    "baseline_cvr=0.1\n",
    "alpha=0.05\n",
    "power=0.8\n",
    "mini_diff=0.1*baseline_cvr\n",
    "effect_size=sms.proportion_effectsize(baseline_cvr, baseline_cvr+mini_diff)\n",
    "sample_size=sms.NormalIndPower().solve_power(effect_size=effect_size, power=power, alpha=alpha, ratio=1)\n",
    "print('Required sample size ~ {0:.1f}'.format(sample_size) + ' per group')\n",
    "#Output:\n",
    "#Required sample size ~ 14744.1 per group"
   ]
  },
  {
   "cell_type": "code",
   "execution_count": 56,
   "metadata": {},
   "outputs": [
    {
     "name": "stdout",
     "output_type": "stream",
     "text": [
      "   CLIENT_ID  ACCOUNT_ID GENDER  BIRTH_DT  ACTIVE  LOAN  DISTRICT_ID SET_SPLIT\n",
      "0          1           1      F  19701213       1     0           18     TRAIN\n",
      "1          2           2      M  19450204       1     1            1     TRAIN\n",
      "2          4           3      M  19561201       1     0            5      TEST\n",
      "3          6           4      M  19190922       1     0           12     TRAIN\n",
      "4          7           5      M  19290125       1     0           15     TRAIN\n",
      "(2520, 21) (1081, 21) (2520,) (1081,)\n"
     ]
    }
   ],
   "source": [
    "# import libraries\n",
    "import numpy as np\n",
    "import pandas as pd\n",
    "import matplotlib.pyplot as plt\n",
    "import seaborn as sns\n",
    "#import time, datetime\n",
    "from datetime import datetime, date\n",
    "\n",
    "import logging\n",
    "\n",
    "# For Modeling\n",
    "from sklearn.impute import SimpleImputer\n",
    "from sklearn.model_selection import train_test_split\n",
    "\n",
    "from sklearn.linear_model import LogisticRegression\n",
    "from sklearn.metrics import accuracy_score, f1_score\n",
    "\n",
    "from sklearn.model_selection import GridSearchCV\n",
    "\n",
    "from sklearn.tree import DecisionTreeClassifier\n",
    "from sklearn.ensemble import RandomForestClassifier\n",
    "import xgboost as xgb\n",
    "\n",
    "# Create and Configure logger\n",
    "LOG_FORMAT = '%(levelname)s %(asctime)s - %(message)s'\n",
    "logging.basicConfig(filename='C:/Users/masud.pervez/Documents/SEB_project/project.log',\n",
    "                    format = LOG_FORMAT,\n",
    "                    level= logging.DEBUG, \n",
    "                    filemode= 'w') # 'w' will overwritten the file\n",
    "\n",
    "logger = logging.getLogger() # Create a logger obj using getLogger()\n",
    "\n",
    "########################################################\n",
    "# path to data\n",
    "\n",
    "PATH= \"C:\\\\Users\\\\masud.pervez\\\\Documents\\\\SEB_project\\\\seb_project\\\\data\"\n",
    "\n",
    "########################################################\n",
    "\n",
    "def calculateAge(dob):\n",
    "    '''This function will calculate age giving a string/int dob.'''\n",
    "    today= date.today() \n",
    "    dob= pd.to_datetime(dob, format= \"%Y%m%d\").date()\n",
    "    #dob = datetime.strptime(str(dob), \"%Y%m%d\").date() # convert int to str first\n",
    "    return today.year - dob.year - ((today.month, today.day) < (dob.month, dob.day))\n",
    "\n",
    "# Load data\n",
    "logger.info(\"Loading datasets.........\")\n",
    "customer_df = pd.read_csv(f'{PATH}//Customer.csv', sep=',')\n",
    "district_df = pd.read_csv(f'{PATH}//District.csv', sep=',')\n",
    "transaction_df = pd.read_csv(f'{PATH}//Transaction.csv', sep=',')\n",
    "print(customer_df.head())\n",
    "\n",
    "########################################################\n",
    "# Data Pre-processing\n",
    "\n",
    "age= customer_df['BIRTH_DT'].apply(calculateAge)\n",
    "customer_df.insert(4, 'Age', age, True)\n",
    "customer_df.head()\n",
    "\n",
    "# # Create Timestamp object\n",
    "customer_df['BIRTH_DT'] = pd.to_datetime(customer_df.BIRTH_DT, format= \"%Y%m%d\")\n",
    "transaction_df['DATE'] = pd.to_datetime(transaction_df.DATE, format= \"%Y%m%d\")\n",
    "\n",
    "# Aggregate transaction dataset for merging\n",
    "\n",
    "transaction_aggdf= transaction_df.groupby('ACCOUNT_ID').agg( \n",
    "                                                max_date=('DATE', max),\n",
    "                                                min_date=('DATE', min),\n",
    "                                                unique_dates= ('DATE' , \"nunique\"),\n",
    "                                                num_days=(\n",
    "                                                    \"DATE\", \n",
    "                                                    lambda x: (max(x) - min(x)).days),\n",
    "                                                trans_amount= ('AMOUNT', 'mean'),\n",
    "                                                avg_balance= ('BALANCE', 'mean'),\n",
    "                                                type_most= ('TYPE', lambda x: x.value_counts().index[0]),\n",
    "                                                operation_most= ('OPERATION', lambda x: x.value_counts().index[0])\n",
    "                                                #type_most= ('TYPE', pd.Series.mode),\n",
    "                                                #operation_most= ('OPERATION', pd.Series.mode)\n",
    "                                                ). reset_index()\n",
    "\n",
    "# merge all the datasets for model creation\n",
    "logger.info(\"Creating model dataset.........\")\n",
    "model_df = (pd.merge(customer_df, district_df, how = 'left', on = \"DISTRICT_ID\")\\\n",
    "            .merge(transaction_aggdf , how ='left', on = 'ACCOUNT_ID')\n",
    "           )\n",
    "\n",
    "# Convert gender from F, M to 0,1\n",
    "model_df['GENDER'].replace({'F':0, 'M':1}, inplace = True)\n",
    "model_df['DISTRICT_ID']= model_df['DISTRICT_ID'].astype('str')\n",
    "model_df['UNEMP_95'] = model_df['UNEMP_95'].replace('?', np.nan).astype(float)\n",
    "model_df['CRIME_95']= model_df['CRIME_95'].replace('?', np.nan).astype(float) \n",
    "# replacing missing values\n",
    "#model_df['UNEMP_95'].fillna(np.mean(model_df['UNEMP_95']),inplace=True )\n",
    "#model_df['CRIME_95'].fillna(np.mean(model_df['CRIME_95']),inplace=True )\n",
    "\n",
    "\n",
    "# Train-Test split\n",
    "\n",
    "train= model_df.loc[model_df.SET_SPLIT== 'TRAIN']\n",
    "test= model_df.loc[model_df.SET_SPLIT== 'TEST']\n",
    "\n",
    "# # Imputation\n",
    "# my_imputer = SimpleImputer()\n",
    "# model_df = pd.DataFrame(my_imputer.fit_transform(model_df))\n",
    "\n",
    "# # make new columns indicating what will be imputed\n",
    "# cols_with_missing = (col for col in model_df.columns \n",
    "#                                  if model_df[col].isnull().any())\n",
    "\n",
    "# for col in cols_with_missing:\n",
    "#     model_df[col + '_was_missing'] = model_df[col].isnull()\n",
    "\n",
    "\n",
    "# select variables to use for modelling\n",
    "target= 'LOAN'\n",
    "IDcols = ['CLIENT_ID', 'ACCOUNT_ID', 'DISTRICT_ID']\n",
    "deleted_cols= ['BIRTH_DT','SET_SPLIT', 'max_date', 'min_date']\n",
    "\n",
    "predictors = [x for x in train.columns if x not in target and  x not in IDcols and  x not in deleted_cols]\n",
    "\n",
    "# drop \"Loan_Status\" and assign it to target variable\n",
    "X = train[predictors]\n",
    "y = train[target]\n",
    "\n",
    "X['operation_most'] = np.where((X.operation_most =='COLLECTION_FROM_OTHER_BANK') | (X.operation_most== 'CREDIT_IN_CASH'),\n",
    "                              'OTHERS', X.operation_most )\n",
    "\n",
    "# adding dummies to the dataset\n",
    "X = pd.get_dummies(X)\n",
    "\n",
    "\n",
    "# Model Development and Evaluation\n",
    "\n",
    "# split the data into train and cross validation set\n",
    "x_train, x_cv, y_train, y_cv = train_test_split(X, y, test_size=0.3, random_state=123,stratify= y)\n",
    "\n",
    "# take a look at the dimension of the data\n",
    "print(x_train.shape, x_cv.shape, y_train.shape, y_cv.shape)\n",
    "\n"
   ]
  },
  {
   "cell_type": "code",
   "execution_count": 57,
   "metadata": {},
   "outputs": [],
   "source": [
    "from sklearn.impute import SimpleImputer\n",
    "from sklearn.model_selection import cross_val_score\n",
    "from sklearn.model_selection import RepeatedStratifiedKFold\n",
    "from sklearn.preprocessing import MinMaxScaler\n",
    "from sklearn.linear_model import LogisticRegression\n",
    "from sklearn.feature_selection import SelectKBest\n",
    "from sklearn.feature_selection import chi2\n",
    "from sklearn.ensemble import RandomForestClassifier\n",
    "from sklearn.pipeline import Pipeline"
   ]
  },
  {
   "cell_type": "code",
   "execution_count": 83,
   "metadata": {},
   "outputs": [
    {
     "name": "stdout",
     "output_type": "stream",
     "text": [
      "Accuracy: 84.220 (0.885)\n"
     ]
    }
   ],
   "source": [
    "# define the pipeline\n",
    "steps = list()\n",
    "steps.append(('imputer', SimpleImputer()))\n",
    "steps.append(('scaler', MinMaxScaler()))\n",
    "steps.append(('lr', LogisticRegression()))\n",
    "pipeline = Pipeline(steps=steps)\n",
    "# define the evaluation procedure\n",
    "cv = RepeatedStratifiedKFold(n_splits=10, n_repeats=3, random_state=1)\n",
    "# evaluate the model using cross-validation\n",
    "scores = cross_val_score(pipeline, x_train, y_train, scoring='accuracy', cv=cv, n_jobs=-1)\n",
    "# report performance\n",
    "print('Accuracy: %.3f (%.3f)' % ((scores.mean())*100, (scores.std())*100))"
   ]
  },
  {
   "cell_type": "code",
   "execution_count": 84,
   "metadata": {},
   "outputs": [
    {
     "data": {
      "text/plain": [
       "Pipeline(steps=[('imputer', SimpleImputer()), ('scaler', MinMaxScaler()),\n",
       "                ('lr', LogisticRegression())])"
      ]
     },
     "execution_count": 84,
     "metadata": {},
     "output_type": "execute_result"
    }
   ],
   "source": [
    "pipeline.fit(x_train, y_train)"
   ]
  },
  {
   "cell_type": "code",
   "execution_count": 85,
   "metadata": {},
   "outputs": [
    {
     "name": "stdout",
     "output_type": "stream",
     "text": [
      "0.851063829787234\n",
      "[[900  17]\n",
      " [144  20]]\n"
     ]
    },
    {
     "data": {
      "text/plain": [
       "Text(33.0, 0.5, 'True')"
      ]
     },
     "execution_count": 85,
     "metadata": {},
     "output_type": "execute_result"
    },
    {
     "data": {
      "image/png": "[encoded data removed]",
      "text/plain": [
       "<Figure size 432x288 with 2 Axes>"
      ]
     },
     "metadata": {
      "needs_background": "light"
     },
     "output_type": "display_data"
    }
   ],
   "source": [
    "# make prediction\n",
    "pred_cv = pipeline.predict(x_cv)\n",
    "\n",
    "# calculate accuracy score\n",
    "print(accuracy_score(y_cv, pred_cv))\n",
    "\n",
    "# import confusion_matrix\n",
    "from sklearn.metrics import confusion_matrix\n",
    " \n",
    "cm = confusion_matrix(y_cv, pred_cv)\n",
    "print(cm)\n",
    "\n",
    "# f, ax = plt.subplots(figsize=(9, 6))\n",
    "sns.heatmap(cm, annot=True, fmt=\"d\")\n",
    "plt.title('Confusion matrix of the classifier')\n",
    "plt.xlabel('Predicted')\n",
    "plt.ylabel('True')"
   ]
  },
  {
   "cell_type": "code",
   "execution_count": 64,
   "metadata": {},
   "outputs": [
    {
     "data": {
      "text/plain": [
       "['C:\\\\Users\\\\masud.pervez\\\\Documents\\\\SEB_project\\\\seb_project//models/model_lr.pkl']"
      ]
     },
     "execution_count": 64,
     "metadata": {},
     "output_type": "execute_result"
    }
   ],
   "source": [
    "from joblib import dump, load\n",
    "\n",
    "# Export the classifier to a file\n",
    "dump(pipeline, f'{PATH}/models/model_lr.pkl') #, compress = 1\n"
   ]
  },
  {
   "cell_type": "code",
   "execution_count": 65,
   "metadata": {},
   "outputs": [
    {
     "data": {
      "text/plain": [
       "array([0, 0, 0, ..., 0, 0, 0], dtype=int64)"
      ]
     },
     "execution_count": 65,
     "metadata": {},
     "output_type": "execute_result"
    }
   ],
   "source": [
    "# To load the model again\n",
    "clf= joblib.load(f'{PATH}/models/model_lr.joblib')\n",
    "clf.predict(x_cv)"
   ]
  },
  {
   "cell_type": "code",
   "execution_count": 105,
   "metadata": {},
   "outputs": [
    {
     "data": {
      "text/plain": [
       "array([[-0.03723875, -0.70806502,  0.        ,  0.79520463, -0.5250062 ,\n",
       "        -0.17806462, -0.76231057,  0.02760122, -0.21545371, -0.32826014,\n",
       "        -0.11642938, -0.20529063,  6.33765961, -3.66644154,  3.21878566,\n",
       "         0.19307983, -0.37076919,  0.3739067 , -0.2701884 ,  0.22613224,\n",
       "         0.04719368]])"
      ]
     },
     "execution_count": 105,
     "metadata": {},
     "output_type": "execute_result"
    }
   ],
   "source": [
    "pipeline.named_steps[\"lr\"].coef_[::-1]"
   ]
  },
  {
   "cell_type": "code",
   "execution_count": 104,
   "metadata": {},
   "outputs": [
    {
     "data": {
      "text/plain": [
       "Index(['GENDER', 'Age', 'ACTIVE', 'N_INHAB', 'N_CITIES', 'URBAN_RATIO',\n",
       "       'AVG_SALARY', 'UNEMP_95', 'UNEMP_96', 'N_ENTR', 'CRIME_95', 'CRIME_96',\n",
       "       'unique_dates', 'num_days', 'trans_amount', 'avg_balance',\n",
       "       'type_most_CREDIT', 'type_most_WITHDRAWAL', 'operation_most_OTHERS',\n",
       "       'operation_most_REMITTANCE_TO_OTHER_BANK',\n",
       "       'operation_most_WITHDRAWAL_IN_CASH'],\n",
       "      dtype='object')"
      ]
     },
     "execution_count": 104,
     "metadata": {},
     "output_type": "execute_result"
    }
   ],
   "source": [
    "x_train.columns"
   ]
  },
  {
   "cell_type": "code",
   "execution_count": 183,
   "metadata": {},
   "outputs": [
    {
     "ename": "KeyError",
     "evalue": "'scaler'",
     "output_type": "error",
     "traceback": [
      "\u001b[1;31m---------------------------------------------------------------------------\u001b[0m",
      "\u001b[1;31mKeyError\u001b[0m                                  Traceback (most recent call last)",
      "\u001b[1;32m<ipython-input-183-9703e90b583b>\u001b[0m in \u001b[0;36m<module>\u001b[1;34m\u001b[0m\n\u001b[0;32m      1\u001b[0m \u001b[1;31m# Get the names of each feature\u001b[0m\u001b[1;33m\u001b[0m\u001b[1;33m\u001b[0m\u001b[1;33m\u001b[0m\u001b[0m\n\u001b[1;32m----> 2\u001b[1;33m \u001b[0mfeature_names\u001b[0m \u001b[1;33m=\u001b[0m \u001b[0mpipeline\u001b[0m\u001b[1;33m.\u001b[0m\u001b[0mnamed_steps\u001b[0m\u001b[1;33m[\u001b[0m\u001b[1;34m\"scaler\"\u001b[0m\u001b[1;33m]\u001b[0m\u001b[1;33m.\u001b[0m\u001b[0mget_feature_names\u001b[0m\u001b[1;33m(\u001b[0m\u001b[1;33m)\u001b[0m\u001b[1;33m\u001b[0m\u001b[1;33m\u001b[0m\u001b[0m\n\u001b[0m\u001b[0;32m      3\u001b[0m \u001b[1;33m\u001b[0m\u001b[0m\n\u001b[0;32m      4\u001b[0m \u001b[1;31m# Get the coefficients of each feature\u001b[0m\u001b[1;33m\u001b[0m\u001b[1;33m\u001b[0m\u001b[1;33m\u001b[0m\u001b[0m\n\u001b[0;32m      5\u001b[0m \u001b[0mcoefs\u001b[0m \u001b[1;33m=\u001b[0m \u001b[0mpipeline\u001b[0m\u001b[1;33m.\u001b[0m\u001b[0mnamed_steps\u001b[0m\u001b[1;33m[\u001b[0m\u001b[1;34m\"lr\"\u001b[0m\u001b[1;33m]\u001b[0m\u001b[1;33m.\u001b[0m\u001b[0mcoef_\u001b[0m\u001b[1;33m.\u001b[0m\u001b[0mflatten\u001b[0m\u001b[1;33m(\u001b[0m\u001b[1;33m)\u001b[0m\u001b[1;33m\u001b[0m\u001b[1;33m\u001b[0m\u001b[0m\n",
      "\u001b[1;31mKeyError\u001b[0m: 'scaler'"
     ]
    }
   ],
   "source": [
    "# Get the names of each feature\n",
    "feature_names = pipeline.named_steps[\"scaler\"].get_feature_names()\n",
    "\n",
    "# Get the coefficients of each feature\n",
    "coefs = pipeline.named_steps[\"lr\"].coef_.flatten()\n",
    "\n",
    "# Zip coefficients and names together and make a DataFrame\n",
    "zipped = zip(feature_names, coefs)\n",
    "df = pd.DataFrame(zipped, columns=[\"feature\", \"value\"])\n",
    "# Sort the features by the absolute value of their coefficient\n",
    "df[\"abs_value\"] = df[\"value\"].apply(lambda x: abs(x))\n",
    "df[\"colors\"] = df[\"value\"].apply(lambda x: \"green\" if x > 0 else \"red\")\n",
    "df = df.sort_values(\"abs_value\", ascending=False)\n",
    "\n",
    "\n",
    "import seaborn as sns\n",
    "fig, ax = plt.subplots(1, 1, figsize=(12, 7))\n",
    "sns.barplot(x=\"feature\",\n",
    "            y=\"value\",\n",
    "            data=df.head(20),\n",
    "           palette=df.head(20)[\"colors\"])\n",
    "ax.set_xticklabels(ax.get_xticklabels(), rotation=90, fontsize=20)\n",
    "ax.set_title(\"Top 20 Features\", fontsize=25)\n",
    "ax.set_ylabel(\"Coef\", fontsize=22)\n",
    "ax.set_xlabel(\"Feature Name\", fontsize=22)"
   ]
  },
  {
   "cell_type": "code",
   "execution_count": 112,
   "metadata": {},
   "outputs": [
    {
     "data": {
      "image/png": "[encoded data removed]",
      "text/plain": [
       "<Figure size 1008x360 with 1 Axes>"
      ]
     },
     "metadata": {
      "needs_background": "light"
     },
     "output_type": "display_data"
    }
   ],
   "source": [
    "# get importance\n",
    "importance = pipeline['lr'].coef_[0]\n",
    "# summarize feature importance\n",
    "# for i,v in enumerate(importance):\n",
    "#     print('Feature: %0d, Score: %.5f' % (i,v))\n",
    "# plot feature importance\n",
    "#plt.bar([x for x in range(len(importance))], importance)\n",
    "plt.figure(figsize=(14,5))\n",
    "plt.bar([x for x in x_train.columns], importance)\n",
    "plt.xticks(rotation= 30, horizontalalignment=\"center\")\n",
    "plt.show()\n"
   ]
  },
  {
   "cell_type": "markdown",
   "metadata": {},
   "source": [
    "### RandomForest"
   ]
  },
  {
   "cell_type": "code",
   "execution_count": 160,
   "metadata": {},
   "outputs": [
    {
     "data": {
      "text/plain": [
       "Pipeline(steps=[('imputer', SimpleImputer()),\n",
       "                ('feature_selection',\n",
       "                 SelectKBest(score_func=<function chi2 at 0x000001963123C5E0>)),\n",
       "                ('rf', RandomForestClassifier(n_estimators=200))])"
      ]
     },
     "execution_count": 160,
     "metadata": {},
     "output_type": "execute_result"
    }
   ],
   "source": [
    "\n",
    "# Set up a pipeline with a feature selection preprocessor that\n",
    "# selects the top 2 features to use.\n",
    "# The pipeline then uses a RandomForestClassifier to train the model.\n",
    "\n",
    "pipeline = Pipeline([\n",
    "      ('imputer', SimpleImputer()),\n",
    "      ('feature_selection', SelectKBest(chi2, k=10)), # Select Best 10 feature according to chi2;\n",
    "      ('rf', RandomForestClassifier(n_estimators=200))\n",
    "    ])\n",
    "\n",
    "pipeline.fit(x_train, y_train)\n"
   ]
  },
  {
   "cell_type": "code",
   "execution_count": 161,
   "metadata": {},
   "outputs": [
    {
     "name": "stdout",
     "output_type": "stream",
     "text": [
      "0.8584643848288621\n",
      "[[902  15]\n",
      " [138  26]]\n"
     ]
    },
    {
     "data": {
      "text/plain": [
       "Text(33.0, 0.5, 'True')"
      ]
     },
     "execution_count": 161,
     "metadata": {},
     "output_type": "execute_result"
    },
    {
     "data": {
      "image/png": "[encoded data removed]",
      "text/plain": [
       "<Figure size 432x288 with 2 Axes>"
      ]
     },
     "metadata": {
      "needs_background": "light"
     },
     "output_type": "display_data"
    }
   ],
   "source": [
    "# make prediction\n",
    "pred_cv = pipeline.predict(x_cv)\n",
    "\n",
    "# calculate accuracy score\n",
    "print(accuracy_score(y_cv, pred_cv))\n",
    "\n",
    "# import confusion_matrix\n",
    "from sklearn.metrics import confusion_matrix\n",
    " \n",
    "cm = confusion_matrix(y_cv, pred_cv)\n",
    "print(cm)\n",
    "\n",
    "# f, ax = plt.subplots(figsize=(9, 6))\n",
    "sns.heatmap(cm, annot=True, fmt=\"d\")\n",
    "plt.title('Confusion matrix of the classifier')\n",
    "plt.xlabel('Predicted')\n",
    "plt.ylabel('True')"
   ]
  },
  {
   "cell_type": "code",
   "execution_count": 162,
   "metadata": {},
   "outputs": [
    {
     "name": "stdout",
     "output_type": "stream",
     "text": [
      "1.0\n",
      "0.8487208008898777\n"
     ]
    }
   ],
   "source": [
    "pipeline.fit(X , y)\n",
    "\n",
    "pred_train= pipeline.predict(X)\n",
    "print(accuracy_score(y, pred_train))\n",
    "\n",
    "X_test= test[predictors]\n",
    "y_test= test[target]\n",
    "X_test['operation_most'] = np.where((X_test.operation_most =='COLLECTION_FROM_OTHER_BANK') | (X_test.operation_most== 'CREDIT_IN_CASH'),\n",
    "                              'OTHERS', X_test.operation_most )\n",
    "\n",
    "# adding dummies to the dataset\n",
    "X_test = pd.get_dummies(X_test)\n",
    "pred_test= pipeline.predict(X_test)\n",
    "print(accuracy_score(y_test, pred_test))\n"
   ]
  },
  {
   "cell_type": "code",
   "execution_count": 163,
   "metadata": {},
   "outputs": [
    {
     "name": "stdout",
     "output_type": "stream",
     "text": [
      "Model performance on train data\n",
      "               precision    recall  f1-score   support\n",
      "\n",
      "           0       1.00      1.00      1.00      3055\n",
      "           1       1.00      1.00      1.00       546\n",
      "\n",
      "    accuracy                           1.00      3601\n",
      "   macro avg       1.00      1.00      1.00      3601\n",
      "weighted avg       1.00      1.00      1.00      3601\n",
      "\n",
      "Model performance on test data\n",
      "               precision    recall  f1-score   support\n",
      "\n",
      "           0       0.86      0.98      0.92       763\n",
      "           1       0.50      0.12      0.19       136\n",
      "\n",
      "    accuracy                           0.85       899\n",
      "   macro avg       0.68      0.55      0.55       899\n",
      "weighted avg       0.81      0.85      0.81       899\n",
      "\n"
     ]
    }
   ],
   "source": [
    "# import classification_report\n",
    "from sklearn.metrics import classification_report\n",
    "print(\"Model performance on train data\\n\", classification_report(y, pred_train))\n",
    "print(\"Model performance on test data\\n\", classification_report(y_test, pred_test))\n"
   ]
  },
  {
   "cell_type": "code",
   "execution_count": null,
   "metadata": {},
   "outputs": [],
   "source": [
    "# Get the names of each feature\n",
    "feature_names = pipeline.named_steps[\"rf\"].get_feature_names()\n",
    "\n",
    "# Get the coefficients of each feature\n",
    "coefs = pipeline.named_steps[\"lr\"].coef_.flatten()"
   ]
  },
  {
   "cell_type": "code",
   "execution_count": 164,
   "metadata": {},
   "outputs": [
    {
     "data": {
      "text/plain": [
       "array([0.09910089, 0.06219559, 0.06497685, 0.05758586, 0.05641101,\n",
       "       0.1602181 , 0.14133565, 0.19454298, 0.15718115, 0.00645192])"
      ]
     },
     "execution_count": 164,
     "metadata": {},
     "output_type": "execute_result"
    }
   ],
   "source": [
    "pipeline.named_steps[\"rf\"].feature_importances_"
   ]
  },
  {
   "cell_type": "code",
   "execution_count": 165,
   "metadata": {},
   "outputs": [
    {
     "data": {
      "text/plain": [
       "array([ 1,  3,  6, 10, 11, 12, 13, 14, 15, 16], dtype=int64)"
      ]
     },
     "execution_count": 165,
     "metadata": {},
     "output_type": "execute_result"
    }
   ],
   "source": [
    "pipeline.named_steps[\"feature_selection\"].get_support(indices=True)"
   ]
  },
  {
   "cell_type": "code",
   "execution_count": 182,
   "metadata": {},
   "outputs": [
    {
     "data": {
      "image/png": "[encoded data removed]",
      "text/plain": [
       "<Figure size 864x504 with 1 Axes>"
      ]
     },
     "metadata": {
      "needs_background": "light"
     },
     "output_type": "display_data"
    }
   ],
   "source": [
    "# Zip coefficients and names together and make a DataFrame\n",
    "mask= mask = pipeline.named_steps[\"feature_selection\"].get_support(indices=True)\n",
    "feature_names = [j for i,j in enumerate(list(x_train.columns)) if i in mask]\n",
    "coeff= pipeline.named_steps[\"rf\"].feature_importances_\n",
    "\n",
    "zipped = zip(feature_names, coeff)\n",
    "df = pd.DataFrame(zipped, columns=[\"feature\", \"value\"])\n",
    "# Sort the features by the absolute value of their coefficient\n",
    "df[\"abs_value\"] = df[\"value\"].apply(lambda x: abs(x))\n",
    "df[\"colors\"] = df[\"value\"].apply(lambda x: \"green\" if x > 0 else \"red\")\n",
    "df = df.sort_values(\"abs_value\", ascending=False)\n",
    "\n",
    "\n",
    "import seaborn as sns\n",
    "fig, ax = plt.subplots(1, 1, figsize=(12, 7))\n",
    "sns.barplot(x=\"value\", y=\"feature\",\n",
    "            data=df.head(10),\n",
    "           palette=df.head(10)[\"colors\"])\n",
    "#ax.set_xticklabels(ax.get_xticklabels(), rotation=90, fontsize=20)\n",
    "ax.set_title(\"Top 10 Features\", fontsize=16)\n",
    "ax.set_xlabel(\"value\", fontsize=12)\n",
    "ax.set_ylabel(\"Feature Name\", fontsize=12)\n",
    "plt.show()"
   ]
  },
  {
   "cell_type": "code",
   "execution_count": null,
   "metadata": {},
   "outputs": [],
   "source": [
    "\n",
    "# Export the classifier to a file\n",
    "joblib.dump(pipeline, 'model_rf.joblib')"
   ]
  },
  {
   "cell_type": "code",
   "execution_count": 156,
   "metadata": {},
   "outputs": [
    {
     "data": {
      "text/plain": [
       "array([ 3, 10, 11, 14, 15], dtype=int64)"
      ]
     },
     "execution_count": 156,
     "metadata": {},
     "output_type": "execute_result"
    }
   ],
   "source": [
    "cols\n"
   ]
  },
  {
   "cell_type": "code",
   "execution_count": null,
   "metadata": {},
   "outputs": [],
   "source": []
  }
 ],
 "metadata": {
  "kernelspec": {
   "display_name": "Python 3",
   "language": "python",
   "name": "python3"
  },
  "language_info": {
   "codemirror_mode": {
    "name": "ipython",
    "version": 3
   },
   "file_extension": ".py",
   "mimetype": "text/x-python",
   "name": "python",
   "nbconvert_exporter": "python",
   "pygments_lexer": "ipython3",
   "version": "3.9.2"
  }
 },
 "nbformat": 4,
 "nbformat_minor": 4
}
